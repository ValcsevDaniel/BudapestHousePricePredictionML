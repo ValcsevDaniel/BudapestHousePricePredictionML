{
 "cells": [
  {
   "cell_type": "markdown",
   "id": "0672eb4b-84be-47bb-b2fb-e9af98d54ac7",
   "metadata": {},
   "source": [
    "# Predicting the price of a house in budapest using Machine learning \n",
    "\n",
    "### 1.1 getting the data\n",
    "- All of the data here was collected with the `ingatlan_com_webscraping.py` script from https://ingatlan.com\n",
    "- The program is made for scraping houses within specific districts\n",
    "- The collection of data takes a significant time, due to bot detection (approx. 6 hours for each district)"
   ]
  },
  {
   "cell_type": "code",
   "execution_count": 2,
   "id": "25901480-0992-4950-9e80-42da23ea3583",
   "metadata": {},
   "outputs": [],
   "source": [
    "import pandas as pd\n",
    "import numpy as np \n"
   ]
  },
  {
   "cell_type": "code",
   "execution_count": 3,
   "id": "c5e98418-2a8d-44e5-ac68-c909b75140c2",
   "metadata": {},
   "outputs": [],
   "source": [
    "first_second_third_part_1 = pd.read_csv(\"datasets/elso_masodik_harmadik_ker.csv\")\n",
    "first_second_third_part_2 = pd.read_csv(\"datasets/elso_masodik_harmadik_ker_ketto.csv\")\n",
    "first_second_third = pd.concat([first_second_third_part_1,first_second_third_part_2])\n",
    "fourth_fifth_part_1 = pd.read_csv(\"datasets/negy_ot_egy.csv\")\n",
    "fourth_fifth_2 = pd.read_csv(\"datasets/negy_ot_ketto.csv\")\n",
    "fourth_fifth = pd.concat([fourth_fifth_part_1,fourth_fifth_2])\n",
    "sixth = pd.read_csv(\"datasets/hatodik_ker.csv\")\n",
    "seventh = pd.read_csv(\"datasets/7ker_osszes.csv\")\n",
    "eigth_pt_1 = pd.read_csv(\"datasets/nyolcadik_ker.csv\")\n",
    "eigth_pt_2 = pd.read_csv(\"datasets/nyolcadik_ker_ketto.csv\")\n",
    "eigth = pd.concat([eigth_pt_1,eigth_pt_2])\n",
    "ninth = pd.read_csv(\"datasets/kilencedik_ker.csv\")\n",
    "tenth = pd.read_csv(\"datasets/tizedik_ker.csv\")\n",
    "eleventh = pd.read_csv(\"datasets/tizenegyedik_ker_elso.csv\")\n"
   ]
  },
  {
   "cell_type": "code",
   "execution_count": 4,
   "id": "8f5716e8-3b05-44b4-95fc-722ec826a34f",
   "metadata": {},
   "outputs": [
    {
     "data": {
      "text/html": [
       "<div>\n",
       "<style scoped>\n",
       "    .dataframe tbody tr th:only-of-type {\n",
       "        vertical-align: middle;\n",
       "    }\n",
       "\n",
       "    .dataframe tbody tr th {\n",
       "        vertical-align: top;\n",
       "    }\n",
       "\n",
       "    .dataframe thead th {\n",
       "        text-align: right;\n",
       "    }\n",
       "</style>\n",
       "<table border=\"1\" class=\"dataframe\">\n",
       "  <thead>\n",
       "    <tr style=\"text-align: right;\">\n",
       "      <th></th>\n",
       "      <th>price</th>\n",
       "      <th>adress</th>\n",
       "      <th>size</th>\n",
       "      <th>rooms</th>\n",
       "      <th>half_rooms</th>\n",
       "      <th>balcony</th>\n",
       "      <th>Ingatlan állapota</th>\n",
       "      <th>Építés éve</th>\n",
       "      <th>Komfort</th>\n",
       "      <th>Emelet</th>\n",
       "      <th>...</th>\n",
       "      <th>Erkély mérete</th>\n",
       "      <th>Kertkapcsolatos</th>\n",
       "      <th>Tetőtér</th>\n",
       "      <th>Parkolás</th>\n",
       "      <th>Parkolóhely ára</th>\n",
       "      <th>Fűtés</th>\n",
       "      <th>Szigetelés</th>\n",
       "      <th>Energiatanúsítvány</th>\n",
       "      <th>Panelprogram</th>\n",
       "      <th>Energetikai tanúsítvány</th>\n",
       "    </tr>\n",
       "  </thead>\n",
       "  <tbody>\n",
       "    <tr>\n",
       "      <th>0</th>\n",
       "      <td>57.3</td>\n",
       "      <td>III. kerület, Pünkösdfürdő utca</td>\n",
       "      <td>44.0</td>\n",
       "      <td>2.0</td>\n",
       "      <td>0.0</td>\n",
       "      <td>4.18</td>\n",
       "      <td>új építésű</td>\n",
       "      <td>2023</td>\n",
       "      <td>duplakomfortos</td>\n",
       "      <td>7</td>\n",
       "      <td>...</td>\n",
       "      <td>4.18 m|2|</td>\n",
       "      <td>nem</td>\n",
       "      <td>nem tetőtéri</td>\n",
       "      <td>teremgarázs hely - megvásárolható</td>\n",
       "      <td>5,50 M Ft</td>\n",
       "      <td>házközponti egyedi méréssel</td>\n",
       "      <td>|nincs megadva|</td>\n",
       "      <td>|nincs megadva|</td>\n",
       "      <td>NaN</td>\n",
       "      <td>NaN</td>\n",
       "    </tr>\n",
       "    <tr>\n",
       "      <th>1</th>\n",
       "      <td>765.0</td>\n",
       "      <td>II. kerület, Bem rakpart</td>\n",
       "      <td>150.0</td>\n",
       "      <td>4.0</td>\n",
       "      <td>0.0</td>\n",
       "      <td>NaN</td>\n",
       "      <td>felújított</td>\n",
       "      <td>1950 előtt</td>\n",
       "      <td>luxus</td>\n",
       "      <td>2</td>\n",
       "      <td>...</td>\n",
       "      <td>|nincs megadva|</td>\n",
       "      <td>|nincs megadva|</td>\n",
       "      <td>nem tetőtéri</td>\n",
       "      <td>|nincs megadva|</td>\n",
       "      <td>NaN</td>\n",
       "      <td>gáz (konvektor), egyéb</td>\n",
       "      <td>|nincs megadva|</td>\n",
       "      <td>|nincs megadva|</td>\n",
       "      <td>NaN</td>\n",
       "      <td>NaN</td>\n",
       "    </tr>\n",
       "    <tr>\n",
       "      <th>2</th>\n",
       "      <td>199.0</td>\n",
       "      <td>II. kerület, Pasaréti út 84b</td>\n",
       "      <td>98.0</td>\n",
       "      <td>3.0</td>\n",
       "      <td>0.0</td>\n",
       "      <td>34.00</td>\n",
       "      <td>újszerű</td>\n",
       "      <td>2012</td>\n",
       "      <td>összkomfortos</td>\n",
       "      <td>3</td>\n",
       "      <td>...</td>\n",
       "      <td>34 m|2|</td>\n",
       "      <td>igen</td>\n",
       "      <td>nem tetőtéri</td>\n",
       "      <td>teremgarázs hely - megvásárolható</td>\n",
       "      <td>20 M Ft</td>\n",
       "      <td>házközponti egyedi méréssel</td>\n",
       "      <td>van - 20 cm</td>\n",
       "      <td>BB</td>\n",
       "      <td>NaN</td>\n",
       "      <td>NaN</td>\n",
       "    </tr>\n",
       "    <tr>\n",
       "      <th>3</th>\n",
       "      <td>40.9</td>\n",
       "      <td>III. kerület, Juhász Gyula utca 2.</td>\n",
       "      <td>51.0</td>\n",
       "      <td>2.0</td>\n",
       "      <td>0.0</td>\n",
       "      <td>4.00</td>\n",
       "      <td>felújított</td>\n",
       "      <td>1950 és 1980 között</td>\n",
       "      <td>összkomfortos</td>\n",
       "      <td>4</td>\n",
       "      <td>...</td>\n",
       "      <td>4 m|2|</td>\n",
       "      <td>nem</td>\n",
       "      <td>nem tetőtéri</td>\n",
       "      <td>utca, közterület - ingyenes</td>\n",
       "      <td>NaN</td>\n",
       "      <td>távfűtés egyedi méréssel, hűtő-fűtő klíma</td>\n",
       "      <td>nincs</td>\n",
       "      <td>|nincs megadva|</td>\n",
       "      <td>nem vett részt</td>\n",
       "      <td>NaN</td>\n",
       "    </tr>\n",
       "    <tr>\n",
       "      <th>4</th>\n",
       "      <td>64.9</td>\n",
       "      <td>III. kerület, Váradi utca</td>\n",
       "      <td>66.0</td>\n",
       "      <td>3.0</td>\n",
       "      <td>0.0</td>\n",
       "      <td>6.00</td>\n",
       "      <td>felújított</td>\n",
       "      <td>|nincs megadva|</td>\n",
       "      <td>összkomfortos</td>\n",
       "      <td>3</td>\n",
       "      <td>...</td>\n",
       "      <td>6 m|2|</td>\n",
       "      <td>nem</td>\n",
       "      <td>nem tetőtéri</td>\n",
       "      <td>utca, közterület - fizetős övezet</td>\n",
       "      <td>NaN</td>\n",
       "      <td>távfűtés egyedi méréssel</td>\n",
       "      <td>nincs</td>\n",
       "      <td>|nincs megadva|</td>\n",
       "      <td>nem vett részt</td>\n",
       "      <td>NaN</td>\n",
       "    </tr>\n",
       "  </tbody>\n",
       "</table>\n",
       "<p>5 rows × 32 columns</p>\n",
       "</div>"
      ],
      "text/plain": [
       "   price                              adress   size  rooms  half_rooms  \\\n",
       "0   57.3    III. kerület, Pünkösdfürdő utca    44.0    2.0         0.0   \n",
       "1  765.0           II. kerület, Bem rakpart   150.0    4.0         0.0   \n",
       "2  199.0        II. kerület, Pasaréti út 84b   98.0    3.0         0.0   \n",
       "3   40.9  III. kerület, Juhász Gyula utca 2.   51.0    2.0         0.0   \n",
       "4   64.9          III. kerület, Váradi utca    66.0    3.0         0.0   \n",
       "\n",
       "   balcony Ingatlan állapota           Építés éve         Komfort Emelet  ...  \\\n",
       "0     4.18        új építésű                 2023  duplakomfortos      7  ...   \n",
       "1      NaN        felújított           1950 előtt           luxus      2  ...   \n",
       "2    34.00           újszerű                 2012   összkomfortos      3  ...   \n",
       "3     4.00        felújított  1950 és 1980 között   összkomfortos      4  ...   \n",
       "4     6.00        felújított      |nincs megadva|   összkomfortos      3  ...   \n",
       "\n",
       "     Erkély mérete  Kertkapcsolatos       Tetőtér  \\\n",
       "0        4.18 m|2|              nem  nem tetőtéri   \n",
       "1  |nincs megadva|  |nincs megadva|  nem tetőtéri   \n",
       "2          34 m|2|             igen  nem tetőtéri   \n",
       "3           4 m|2|              nem  nem tetőtéri   \n",
       "4           6 m|2|              nem  nem tetőtéri   \n",
       "\n",
       "                            Parkolás Parkolóhely ára  \\\n",
       "0  teremgarázs hely - megvásárolható       5,50 M Ft   \n",
       "1                    |nincs megadva|             NaN   \n",
       "2  teremgarázs hely - megvásárolható         20 M Ft   \n",
       "3        utca, közterület - ingyenes             NaN   \n",
       "4  utca, közterület - fizetős övezet             NaN   \n",
       "\n",
       "                                       Fűtés       Szigetelés  \\\n",
       "0                házközponti egyedi méréssel  |nincs megadva|   \n",
       "1                     gáz (konvektor), egyéb  |nincs megadva|   \n",
       "2                házközponti egyedi méréssel      van - 20 cm   \n",
       "3  távfűtés egyedi méréssel, hűtő-fűtő klíma            nincs   \n",
       "4                   távfűtés egyedi méréssel            nincs   \n",
       "\n",
       "  Energiatanúsítvány    Panelprogram Energetikai tanúsítvány  \n",
       "0    |nincs megadva|             NaN                     NaN  \n",
       "1    |nincs megadva|             NaN                     NaN  \n",
       "2                 BB             NaN                     NaN  \n",
       "3    |nincs megadva|  nem vett részt                     NaN  \n",
       "4    |nincs megadva|  nem vett részt                     NaN  \n",
       "\n",
       "[5 rows x 32 columns]"
      ]
     },
     "execution_count": 4,
     "metadata": {},
     "output_type": "execute_result"
    }
   ],
   "source": [
    "#put all of the data together \n",
    "budapest_houses = pd.concat([first_second_third,fourth_fifth, sixth, seventh,eigth,ninth,tenth,eleventh])\n",
    "budapest_houses.head()"
   ]
  },
  {
   "cell_type": "markdown",
   "id": "04a24857-0d4b-4d9c-ba8e-adfbe8aafd25",
   "metadata": {},
   "source": [
    "## 1.3 filtering the relevant features "
   ]
  },
  {
   "cell_type": "code",
   "execution_count": 5,
   "id": "50a1cb10-e055-4b93-89ec-04b9580feeb4",
   "metadata": {},
   "outputs": [
    {
     "name": "stdout",
     "output_type": "stream",
     "text": [
      "Index(['price', 'adress', 'size', 'rooms', 'half_rooms', 'balcony',\n",
      "       'Ingatlan állapota', 'Építés éve', 'Komfort', 'Emelet',\n",
      "       'Épület szintjei', 'Lift', 'Belmagasság', 'Légkondicionáló',\n",
      "       'Akadálymentesített',\n",
      "       'Átlag gázfogyasztás\\r\\n                            |info|',\n",
      "       'Átlag áramfogyasztás\\r\\n                            |info|',\n",
      "       'Rezsiköltség', 'Közös költség', 'Fürdő és wc', 'Tájolás', 'Kilátás',\n",
      "       'Erkély mérete', 'Kertkapcsolatos', 'Tetőtér', 'Parkolás',\n",
      "       'Parkolóhely ára', 'Fűtés', 'Szigetelés', 'Energiatanúsítvány',\n",
      "       'Panelprogram', 'Energetikai tanúsítvány'],\n",
      "      dtype='object')\n"
     ]
    }
   ],
   "source": [
    "print(budapest_houses.columns)"
   ]
  },
  {
   "cell_type": "code",
   "execution_count": 6,
   "id": "3f5031d5-5006-4f58-a5bc-6ac877bd99e6",
   "metadata": {},
   "outputs": [
    {
     "data": {
      "text/plain": [
       "0       |nincs megadva|\n",
       "1                   van\n",
       "2                   van\n",
       "3                   van\n",
       "4                 nincs\n",
       "             ...       \n",
       "1835              nincs\n",
       "1836                van\n",
       "1837    |nincs megadva|\n",
       "1838                van\n",
       "1839    |nincs megadva|\n",
       "Name: Légkondicionáló, Length: 16960, dtype: object"
      ]
     },
     "execution_count": 6,
     "metadata": {},
     "output_type": "execute_result"
    }
   ],
   "source": [
    "selected_columns = [\n",
    "    'price', 'adress', 'size', 'rooms', 'half_rooms', 'balcony',\n",
    "    'Ingatlan állapota', 'Építés éve', 'Komfort', 'Emelet',\n",
    "     'Lift', 'Légkondicionáló',\n",
    "    'Fürdő és wc', 'Tájolás', 'Kilátás',\n",
    "    \n",
    "]\n",
    "budapest_houses_selected = budapest_houses[selected_columns]\n",
    "budapest_houses_selected[\"Légkondicionáló\"]"
   ]
  },
  {
   "cell_type": "code",
   "execution_count": 7,
   "id": "4f719763-7965-4d86-beee-750eb16b2ba1",
   "metadata": {},
   "outputs": [
    {
     "data": {
      "text/html": [
       "<div>\n",
       "<style scoped>\n",
       "    .dataframe tbody tr th:only-of-type {\n",
       "        vertical-align: middle;\n",
       "    }\n",
       "\n",
       "    .dataframe tbody tr th {\n",
       "        vertical-align: top;\n",
       "    }\n",
       "\n",
       "    .dataframe thead th {\n",
       "        text-align: right;\n",
       "    }\n",
       "</style>\n",
       "<table border=\"1\" class=\"dataframe\">\n",
       "  <thead>\n",
       "    <tr style=\"text-align: right;\">\n",
       "      <th></th>\n",
       "      <th>price</th>\n",
       "      <th>address</th>\n",
       "      <th>size</th>\n",
       "      <th>rooms</th>\n",
       "      <th>half_rooms</th>\n",
       "      <th>balcony</th>\n",
       "      <th>property_condition</th>\n",
       "      <th>construction_year</th>\n",
       "      <th>comfort</th>\n",
       "      <th>floor</th>\n",
       "      <th>elevator</th>\n",
       "      <th>air_conditioning</th>\n",
       "      <th>bathroom_and_wc</th>\n",
       "      <th>orientation</th>\n",
       "      <th>view</th>\n",
       "    </tr>\n",
       "  </thead>\n",
       "  <tbody>\n",
       "    <tr>\n",
       "      <th>0</th>\n",
       "      <td>57.3</td>\n",
       "      <td>III. kerület, Pünkösdfürdő utca</td>\n",
       "      <td>44.0</td>\n",
       "      <td>2.0</td>\n",
       "      <td>0.0</td>\n",
       "      <td>4.18</td>\n",
       "      <td>új építésű</td>\n",
       "      <td>2023</td>\n",
       "      <td>duplakomfortos</td>\n",
       "      <td>7</td>\n",
       "      <td>van</td>\n",
       "      <td>|nincs megadva|</td>\n",
       "      <td>külön helyiségben</td>\n",
       "      <td>észak</td>\n",
       "      <td>utcai</td>\n",
       "    </tr>\n",
       "    <tr>\n",
       "      <th>1</th>\n",
       "      <td>765.0</td>\n",
       "      <td>II. kerület, Bem rakpart</td>\n",
       "      <td>150.0</td>\n",
       "      <td>4.0</td>\n",
       "      <td>0.0</td>\n",
       "      <td>NaN</td>\n",
       "      <td>felújított</td>\n",
       "      <td>1950 előtt</td>\n",
       "      <td>luxus</td>\n",
       "      <td>2</td>\n",
       "      <td>van</td>\n",
       "      <td>van</td>\n",
       "      <td>külön helyiségben</td>\n",
       "      <td>kelet</td>\n",
       "      <td>panorámás</td>\n",
       "    </tr>\n",
       "    <tr>\n",
       "      <th>2</th>\n",
       "      <td>199.0</td>\n",
       "      <td>II. kerület, Pasaréti út 84b</td>\n",
       "      <td>98.0</td>\n",
       "      <td>3.0</td>\n",
       "      <td>0.0</td>\n",
       "      <td>34.00</td>\n",
       "      <td>újszerű</td>\n",
       "      <td>2012</td>\n",
       "      <td>összkomfortos</td>\n",
       "      <td>3</td>\n",
       "      <td>van</td>\n",
       "      <td>van</td>\n",
       "      <td>külön és egyben is</td>\n",
       "      <td>délkelet</td>\n",
       "      <td>panorámás</td>\n",
       "    </tr>\n",
       "    <tr>\n",
       "      <th>3</th>\n",
       "      <td>40.9</td>\n",
       "      <td>III. kerület, Juhász Gyula utca 2.</td>\n",
       "      <td>51.0</td>\n",
       "      <td>2.0</td>\n",
       "      <td>0.0</td>\n",
       "      <td>4.00</td>\n",
       "      <td>felújított</td>\n",
       "      <td>1950 és 1980 között</td>\n",
       "      <td>összkomfortos</td>\n",
       "      <td>4</td>\n",
       "      <td>van</td>\n",
       "      <td>van</td>\n",
       "      <td>külön helyiségben</td>\n",
       "      <td>nyugat</td>\n",
       "      <td>panorámás</td>\n",
       "    </tr>\n",
       "    <tr>\n",
       "      <th>4</th>\n",
       "      <td>64.9</td>\n",
       "      <td>III. kerület, Váradi utca</td>\n",
       "      <td>66.0</td>\n",
       "      <td>3.0</td>\n",
       "      <td>0.0</td>\n",
       "      <td>6.00</td>\n",
       "      <td>felújított</td>\n",
       "      <td>|nincs megadva|</td>\n",
       "      <td>összkomfortos</td>\n",
       "      <td>3</td>\n",
       "      <td>nincs</td>\n",
       "      <td>nincs</td>\n",
       "      <td>külön helyiségben</td>\n",
       "      <td>|nincs megadva|</td>\n",
       "      <td>kertre néz</td>\n",
       "    </tr>\n",
       "    <tr>\n",
       "      <th>...</th>\n",
       "      <td>...</td>\n",
       "      <td>...</td>\n",
       "      <td>...</td>\n",
       "      <td>...</td>\n",
       "      <td>...</td>\n",
       "      <td>...</td>\n",
       "      <td>...</td>\n",
       "      <td>...</td>\n",
       "      <td>...</td>\n",
       "      <td>...</td>\n",
       "      <td>...</td>\n",
       "      <td>...</td>\n",
       "      <td>...</td>\n",
       "      <td>...</td>\n",
       "      <td>...</td>\n",
       "    </tr>\n",
       "    <tr>\n",
       "      <th>1835</th>\n",
       "      <td>58.0</td>\n",
       "      <td>XI. kerület, Tas vezér utca</td>\n",
       "      <td>43.0</td>\n",
       "      <td>1.0</td>\n",
       "      <td>0.0</td>\n",
       "      <td>2.00</td>\n",
       "      <td>felújított</td>\n",
       "      <td>1950 és 1980 között</td>\n",
       "      <td>összkomfortos</td>\n",
       "      <td>földszint</td>\n",
       "      <td>van</td>\n",
       "      <td>nincs</td>\n",
       "      <td>egy helyiségben</td>\n",
       "      <td>délkelet</td>\n",
       "      <td>kertre néz</td>\n",
       "    </tr>\n",
       "    <tr>\n",
       "      <th>1836</th>\n",
       "      <td>105.0</td>\n",
       "      <td>XI. kerület, Hadak útja 5.</td>\n",
       "      <td>108.0</td>\n",
       "      <td>4.0</td>\n",
       "      <td>1.0</td>\n",
       "      <td>20.00</td>\n",
       "      <td>újszerű</td>\n",
       "      <td>2022</td>\n",
       "      <td>duplakomfortos</td>\n",
       "      <td>2</td>\n",
       "      <td>van</td>\n",
       "      <td>van</td>\n",
       "      <td>külön helyiségben</td>\n",
       "      <td>délkelet</td>\n",
       "      <td>udvari</td>\n",
       "    </tr>\n",
       "    <tr>\n",
       "      <th>1837</th>\n",
       "      <td>92.9</td>\n",
       "      <td>XI. kerület, Napkelte utca</td>\n",
       "      <td>49.0</td>\n",
       "      <td>2.0</td>\n",
       "      <td>0.0</td>\n",
       "      <td>7.53</td>\n",
       "      <td>újszerű</td>\n",
       "      <td>2019</td>\n",
       "      <td>|nincs megadva|</td>\n",
       "      <td>1</td>\n",
       "      <td>van</td>\n",
       "      <td>|nincs megadva|</td>\n",
       "      <td>külön helyiségben</td>\n",
       "      <td>dél</td>\n",
       "      <td>utcai</td>\n",
       "    </tr>\n",
       "    <tr>\n",
       "      <th>1838</th>\n",
       "      <td>63.9</td>\n",
       "      <td>XI. kerület, Alíz utca</td>\n",
       "      <td>37.0</td>\n",
       "      <td>1.0</td>\n",
       "      <td>1.0</td>\n",
       "      <td>4.00</td>\n",
       "      <td>jó állapotú</td>\n",
       "      <td>2019</td>\n",
       "      <td>|nincs megadva|</td>\n",
       "      <td>7</td>\n",
       "      <td>van</td>\n",
       "      <td>van</td>\n",
       "      <td>|nincs megadva|</td>\n",
       "      <td>délnyugat</td>\n",
       "      <td>utcai</td>\n",
       "    </tr>\n",
       "    <tr>\n",
       "      <th>1839</th>\n",
       "      <td>218.7</td>\n",
       "      <td>XI. kerület, Madárhegy</td>\n",
       "      <td>107.0</td>\n",
       "      <td>4.0</td>\n",
       "      <td>0.0</td>\n",
       "      <td>12.00</td>\n",
       "      <td>|nincs megadva|</td>\n",
       "      <td>2023</td>\n",
       "      <td>duplakomfortos</td>\n",
       "      <td>földszint</td>\n",
       "      <td>nincs</td>\n",
       "      <td>|nincs megadva|</td>\n",
       "      <td>külön és egyben is</td>\n",
       "      <td>délnyugat</td>\n",
       "      <td>kertre néz</td>\n",
       "    </tr>\n",
       "  </tbody>\n",
       "</table>\n",
       "<p>16960 rows × 15 columns</p>\n",
       "</div>"
      ],
      "text/plain": [
       "      price                             address   size  rooms  half_rooms  \\\n",
       "0      57.3    III. kerület, Pünkösdfürdő utca    44.0    2.0         0.0   \n",
       "1     765.0           II. kerület, Bem rakpart   150.0    4.0         0.0   \n",
       "2     199.0        II. kerület, Pasaréti út 84b   98.0    3.0         0.0   \n",
       "3      40.9  III. kerület, Juhász Gyula utca 2.   51.0    2.0         0.0   \n",
       "4      64.9          III. kerület, Váradi utca    66.0    3.0         0.0   \n",
       "...     ...                                 ...    ...    ...         ...   \n",
       "1835   58.0        XI. kerület, Tas vezér utca    43.0    1.0         0.0   \n",
       "1836  105.0          XI. kerület, Hadak útja 5.  108.0    4.0         1.0   \n",
       "1837   92.9         XI. kerület, Napkelte utca    49.0    2.0         0.0   \n",
       "1838   63.9             XI. kerület, Alíz utca    37.0    1.0         1.0   \n",
       "1839  218.7             XI. kerület, Madárhegy   107.0    4.0         0.0   \n",
       "\n",
       "      balcony property_condition    construction_year          comfort  \\\n",
       "0        4.18         új építésű                 2023   duplakomfortos   \n",
       "1         NaN         felújított           1950 előtt            luxus   \n",
       "2       34.00            újszerű                 2012    összkomfortos   \n",
       "3        4.00         felújított  1950 és 1980 között    összkomfortos   \n",
       "4        6.00         felújított      |nincs megadva|    összkomfortos   \n",
       "...       ...                ...                  ...              ...   \n",
       "1835     2.00         felújított  1950 és 1980 között    összkomfortos   \n",
       "1836    20.00            újszerű                 2022   duplakomfortos   \n",
       "1837     7.53            újszerű                 2019  |nincs megadva|   \n",
       "1838     4.00        jó állapotú                 2019  |nincs megadva|   \n",
       "1839    12.00    |nincs megadva|                 2023   duplakomfortos   \n",
       "\n",
       "          floor elevator air_conditioning     bathroom_and_wc  \\\n",
       "0             7      van  |nincs megadva|   külön helyiségben   \n",
       "1             2      van              van   külön helyiségben   \n",
       "2             3      van              van  külön és egyben is   \n",
       "3             4      van              van   külön helyiségben   \n",
       "4             3    nincs            nincs   külön helyiségben   \n",
       "...         ...      ...              ...                 ...   \n",
       "1835  földszint      van            nincs     egy helyiségben   \n",
       "1836          2      van              van   külön helyiségben   \n",
       "1837          1      van  |nincs megadva|   külön helyiségben   \n",
       "1838          7      van              van     |nincs megadva|   \n",
       "1839  földszint    nincs  |nincs megadva|  külön és egyben is   \n",
       "\n",
       "          orientation        view  \n",
       "0               észak       utcai  \n",
       "1               kelet   panorámás  \n",
       "2            délkelet   panorámás  \n",
       "3              nyugat   panorámás  \n",
       "4     |nincs megadva|  kertre néz  \n",
       "...               ...         ...  \n",
       "1835         délkelet  kertre néz  \n",
       "1836         délkelet      udvari  \n",
       "1837              dél       utcai  \n",
       "1838        délnyugat       utcai  \n",
       "1839        délnyugat  kertre néz  \n",
       "\n",
       "[16960 rows x 15 columns]"
      ]
     },
     "execution_count": 7,
     "metadata": {},
     "output_type": "execute_result"
    }
   ],
   "source": [
    "column_translation = {\n",
    "    'price': 'price',\n",
    "    'adress': 'address',\n",
    "    'size': 'size',\n",
    "    'rooms': 'rooms',\n",
    "    'half_rooms': 'half_rooms',\n",
    "    'balcony': 'balcony',\n",
    "    'Ingatlan állapota': 'property_condition',\n",
    "    'Építés éve': 'construction_year',\n",
    "    'Komfort': 'comfort',\n",
    "    'Emelet': 'floor',\n",
    "    'Lift': 'elevator',\n",
    "    'Légkondicionáló': 'air_conditioning',\n",
    "    'Fürdő és wc': 'bathroom_and_wc',\n",
    "    'Tájolás': 'orientation',\n",
    "    'Kilátás': 'view',\n",
    "    \n",
    "}\n",
    "\n",
    "# Rename columns using the translation dictionary\n",
    "budapest_houses_selected = budapest_houses_selected.rename(columns=column_translation)\n",
    "budapest_houses_selected"
   ]
  },
  {
   "cell_type": "markdown",
   "id": "768d4aba-a408-459f-96f2-c11aecafdb80",
   "metadata": {},
   "source": [
    "## 1.4.1 getting the data ready "
   ]
  },
  {
   "cell_type": "code",
   "execution_count": 8,
   "id": "f1397dc2-be4b-4c84-9cd6-547230149d2b",
   "metadata": {},
   "outputs": [],
   "source": [
    "HAS_ENCODING_FOR_AC = {\n",
    "    \"van\" : True,\n",
    "    \"nincs\" : False,\n",
    "    \"|nincs megadva|\" : False\n",
    "    }\n",
    "HAS_ENCODING_FOR_ELEVATOR = {\n",
    "    \"van\" : True,\n",
    "    \"nincs\" : False\n",
    "    }    \n",
    "\n",
    "\n",
    "def Floor_Parse(x):\n",
    "    if \"földszint\" in str(x):\n",
    "        return 0\n",
    "    else:\n",
    "        try:\n",
    "            return float(x)\n",
    "        except:\n",
    "            pass\n",
    "def Construction_Year_Parse(x):\n",
    "    x = str(x).split()\n",
    "    if len(x) > 2:\n",
    "        try:\n",
    "            return (float(x[0]) + float(x[2])) / 2\n",
    "        except:\n",
    "            pass\n",
    "    elif len(x) > 1: \n",
    "        try:\n",
    "            return float(x[0])\n",
    "        except:\n",
    "            pass\n",
    "    elif len(x) == 1:\n",
    "        try:\n",
    "            return float(x[0])\n",
    "        except:\n",
    "            pass\n",
    "def adress_parse_to_district(x):\n",
    "    x = str(x).split()\n",
    "    try:\n",
    "        return x[0]\n",
    "    except:\n",
    "        pass\n"
   ]
  },
  {
   "cell_type": "code",
   "execution_count": 9,
   "id": "41c06353-1ec4-4150-903a-168fe50d7d4e",
   "metadata": {},
   "outputs": [],
   "source": [
    "budapest_houses_selected[\"air_conditioning\"] = budapest_houses_selected[\"air_conditioning\"].map(HAS_ENCODING_FOR_AC)\n",
    "budapest_houses_selected[\"elevator\"] = budapest_houses_selected[\"elevator\"].map(HAS_ENCODING_FOR_ELEVATOR)\n",
    "#budapest_houses_selected[\"construction_year\"] = budapest_houses_selected[\"construction_year\"].apply(lambda x : Construction_Year_Parse(x))\n",
    "budapest_houses_selected[\"balcony\"].fillna(0,inplace=True)\n",
    "budapest_houses_selected[\"address\"] = budapest_houses_selected[\"address\"].apply(lambda x : adress_parse_to_district(x))\n",
    "budapest_houses_selected[\"floor\"] = budapest_houses_selected[\"floor\"].apply(lambda x : Floor_Parse(x))\n",
    "budapest_houses_selected[\"floor\"].fillna(0,inplace=True)\n",
    "budapest_houses_selected[\"elevator\"].fillna(False,inplace=True)"
   ]
  },
  {
   "cell_type": "markdown",
   "id": "98ebe875-f3cc-4266-b2f3-c822f999fd1f",
   "metadata": {},
   "source": [
    "## 1.4.2 exploring the data"
   ]
  },
  {
   "cell_type": "code",
   "execution_count": 64,
   "id": "e03e0b44-bfe2-4719-8e43-a76fd7f6631d",
   "metadata": {},
   "outputs": [
    {
     "data": {
      "text/plain": [
       "pandas.core.series.Series"
      ]
     },
     "execution_count": 64,
     "metadata": {},
     "output_type": "execute_result"
    }
   ],
   "source": [
    "average_price_per_district = budapest_houses_selected.groupby('address')['price'].mean()\n",
    "type(average_price_per_district)\n",
    "\n",
    "\n"
   ]
  },
  {
   "cell_type": "code",
   "execution_count": 84,
   "id": "bfc5d0a6-6bd8-4fce-a085-4d1086135cae",
   "metadata": {},
   "outputs": [
    {
     "data": {
      "image/png": "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",
      "text/plain": [
       "<Figure size 640x480 with 1 Axes>"
      ]
     },
     "metadata": {},
     "output_type": "display_data"
    }
   ],
   "source": [
    "import matplotlib.pyplot as plt\n",
    "plt.rcdefaults()\n",
    "fig, ax = plt.subplots()\n",
    "\n",
    "bars = ax.bar(average_price_per_district.index,average_price_per_district.values)\n",
    "ax.set_ylabel('Price (million HUF)')\n",
    "ax.set_xlabel('District')\n",
    "ax.set_title('Average price of a house in different districts')\n",
    "ax.axhline(y=average_price_per_district.values.mean(),c='b',linestyle='--',label='Average')\n",
    "\n",
    "ax.spines['top'].set_visible(False)\n",
    "ax.spines['right'].set_visible(False)\n",
    "ax.spines['left'].set_visible(False)\n",
    "ax.spines['bottom'].set_color('#DDDDDD')\n",
    "\n",
    "ax.tick_params(bottom=False, left=False)\n",
    "\n",
    "ax.set_axisbelow(True)\n",
    "ax.yaxis.grid(True, color='#EEEEEE')\n",
    "ax.xaxis.grid(False)\n",
    "\n",
    "bar_color = bars[0].get_facecolor()\n",
    "for bar in bars:\n",
    "  ax.text(\n",
    "      bar.get_x() + bar.get_width() / 2,\n",
    "      bar.get_height() + 0.3,\n",
    "      round(bar.get_height(), 1),\n",
    "      horizontalalignment='center',\n",
    "      color=bar_color,\n",
    "      weight='bold'\n",
    "  )\n",
    "plt.show()\n"
   ]
  },
  {
   "cell_type": "code",
   "execution_count": 10,
   "id": "daf39e8b-07f2-40b8-8c98-79c7aabdad42",
   "metadata": {},
   "outputs": [],
   "source": [
    "\n",
    "budapest_houses_selected.isna().sum()\n",
    "budapest_houses_selected.dropna(inplace=True)\n"
   ]
  },
  {
   "cell_type": "markdown",
   "id": "60d4c843-c5e5-46a6-95e7-e6d85f5518f1",
   "metadata": {},
   "source": [
    "## 2.0 Finding the ideal machine learning model and training it "
   ]
  },
  {
   "cell_type": "code",
   "execution_count": 11,
   "id": "1d4244fe-1575-4d21-92bd-3366df56a5a0",
   "metadata": {},
   "outputs": [],
   "source": [
    "X = budapest_houses_selected.drop(\"price\", axis=1)\n",
    "y = budapest_houses_selected[\"price\"]"
   ]
  },
  {
   "cell_type": "code",
   "execution_count": 12,
   "id": "0d1d2872-7cd3-4ead-b384-cb2f25e4e296",
   "metadata": {},
   "outputs": [
    {
     "data": {
      "text/plain": [
       "<16896x72 sparse matrix of type '<class 'numpy.float64'>'\n",
       "\twith 208548 stored elements in Compressed Sparse Row format>"
      ]
     },
     "execution_count": 12,
     "metadata": {},
     "output_type": "execute_result"
    }
   ],
   "source": [
    "# 1. Import OneHotEncoder and ColumnTransformer\n",
    "from sklearn.preprocessing import OneHotEncoder\n",
    "from sklearn.compose import ColumnTransformer\n",
    "budapest_houses_selected.dropna()\n",
    "# 2. Define the categorical features to transform\n",
    "categorical_features = [\"address\", \"property_condition\",\"construction_year\",\"comfort\",\"elevator\",\"air_conditioning\",\"bathroom_and_wc\",\"orientation\",\"view\"]\n",
    "\n",
    "# 3. Create an instance of OneHotEncoder\n",
    "one_hot = OneHotEncoder()\n",
    "\n",
    "# 4. Create an instance of ColumnTransformer\n",
    "transformer = ColumnTransformer([(\"one_hot\", # name\n",
    "                                  one_hot, # transformer\n",
    "                                  categorical_features)], # columns to transform\n",
    "                                  remainder=\"passthrough\") # what to do with the rest of the columns? (\"passthrough\" = leave unchanged) \n",
    "\n",
    "# 5. Turn the categorical features into numbers (this will return an array-like sparse matrix, not a DataFrame)\n",
    "transformed_X = transformer.fit_transform(X)\n",
    "transformed_X"
   ]
  },
  {
   "cell_type": "code",
   "execution_count": 13,
   "id": "f3425138-691d-4073-bbf0-6ad21326ca89",
   "metadata": {},
   "outputs": [
    {
     "data": {
      "text/plain": [
       "16896"
      ]
     },
     "execution_count": 13,
     "metadata": {},
     "output_type": "execute_result"
    }
   ],
   "source": [
    "len(X)"
   ]
  },
  {
   "cell_type": "markdown",
   "id": "e25b014d-ce6c-414c-a300-006f1c960662",
   "metadata": {},
   "source": [
    "### 2.1 Experimenting with Ridge model"
   ]
  },
  {
   "cell_type": "code",
   "execution_count": 80,
   "id": "ffedfd78-2f7e-46ee-9507-2eff68b29bd2",
   "metadata": {},
   "outputs": [
    {
     "data": {
      "text/plain": [
       "0.7574691514591696"
      ]
     },
     "execution_count": 80,
     "metadata": {},
     "output_type": "execute_result"
    }
   ],
   "source": [
    "from sklearn.model_selection import train_test_split\n",
    "from sklearn.linear_model import Ridge\n",
    "X_train, X_test, y_train, y_test = train_test_split(transformed_X, y, test_size=0.2)\n",
    "model = Ridge()\n",
    "model.fit(X_train, y_train)\n",
    "\n",
    "model.score(X_test, y_test)"
   ]
  },
  {
   "cell_type": "markdown",
   "id": "c3472e1d-b0cf-402e-affe-646aa8d6cfb7",
   "metadata": {},
   "source": [
    "### 2.2 RandomForestRegressor"
   ]
  },
  {
   "cell_type": "code",
   "execution_count": 19,
   "id": "7c6280ad-38eb-4fdf-b82e-1a39a30929bc",
   "metadata": {},
   "outputs": [
    {
     "data": {
      "text/html": [
       "<style>#sk-container-id-2 {color: black;}#sk-container-id-2 pre{padding: 0;}#sk-container-id-2 div.sk-toggleable {background-color: white;}#sk-container-id-2 label.sk-toggleable__label {cursor: pointer;display: block;width: 100%;margin-bottom: 0;padding: 0.3em;box-sizing: border-box;text-align: center;}#sk-container-id-2 label.sk-toggleable__label-arrow:before {content: \"▸\";float: left;margin-right: 0.25em;color: #696969;}#sk-container-id-2 label.sk-toggleable__label-arrow:hover:before {color: black;}#sk-container-id-2 div.sk-estimator:hover label.sk-toggleable__label-arrow:before {color: black;}#sk-container-id-2 div.sk-toggleable__content {max-height: 0;max-width: 0;overflow: hidden;text-align: left;background-color: #f0f8ff;}#sk-container-id-2 div.sk-toggleable__content pre {margin: 0.2em;color: black;border-radius: 0.25em;background-color: #f0f8ff;}#sk-container-id-2 input.sk-toggleable__control:checked~div.sk-toggleable__content {max-height: 200px;max-width: 100%;overflow: auto;}#sk-container-id-2 input.sk-toggleable__control:checked~label.sk-toggleable__label-arrow:before {content: \"▾\";}#sk-container-id-2 div.sk-estimator input.sk-toggleable__control:checked~label.sk-toggleable__label {background-color: #d4ebff;}#sk-container-id-2 div.sk-label input.sk-toggleable__control:checked~label.sk-toggleable__label {background-color: #d4ebff;}#sk-container-id-2 input.sk-hidden--visually {border: 0;clip: rect(1px 1px 1px 1px);clip: rect(1px, 1px, 1px, 1px);height: 1px;margin: -1px;overflow: hidden;padding: 0;position: absolute;width: 1px;}#sk-container-id-2 div.sk-estimator {font-family: monospace;background-color: #f0f8ff;border: 1px dotted black;border-radius: 0.25em;box-sizing: border-box;margin-bottom: 0.5em;}#sk-container-id-2 div.sk-estimator:hover {background-color: #d4ebff;}#sk-container-id-2 div.sk-parallel-item::after {content: \"\";width: 100%;border-bottom: 1px solid gray;flex-grow: 1;}#sk-container-id-2 div.sk-label:hover label.sk-toggleable__label {background-color: #d4ebff;}#sk-container-id-2 div.sk-serial::before {content: \"\";position: absolute;border-left: 1px solid gray;box-sizing: border-box;top: 0;bottom: 0;left: 50%;z-index: 0;}#sk-container-id-2 div.sk-serial {display: flex;flex-direction: column;align-items: center;background-color: white;padding-right: 0.2em;padding-left: 0.2em;position: relative;}#sk-container-id-2 div.sk-item {position: relative;z-index: 1;}#sk-container-id-2 div.sk-parallel {display: flex;align-items: stretch;justify-content: center;background-color: white;position: relative;}#sk-container-id-2 div.sk-item::before, #sk-container-id-2 div.sk-parallel-item::before {content: \"\";position: absolute;border-left: 1px solid gray;box-sizing: border-box;top: 0;bottom: 0;left: 50%;z-index: -1;}#sk-container-id-2 div.sk-parallel-item {display: flex;flex-direction: column;z-index: 1;position: relative;background-color: white;}#sk-container-id-2 div.sk-parallel-item:first-child::after {align-self: flex-end;width: 50%;}#sk-container-id-2 div.sk-parallel-item:last-child::after {align-self: flex-start;width: 50%;}#sk-container-id-2 div.sk-parallel-item:only-child::after {width: 0;}#sk-container-id-2 div.sk-dashed-wrapped {border: 1px dashed gray;margin: 0 0.4em 0.5em 0.4em;box-sizing: border-box;padding-bottom: 0.4em;background-color: white;}#sk-container-id-2 div.sk-label label {font-family: monospace;font-weight: bold;display: inline-block;line-height: 1.2em;}#sk-container-id-2 div.sk-label-container {text-align: center;}#sk-container-id-2 div.sk-container {/* jupyter's `normalize.less` sets `[hidden] { display: none; }` but bootstrap.min.css set `[hidden] { display: none !important; }` so we also need the `!important` here to be able to override the default hidden behavior on the sphinx rendered scikit-learn.org. See: https://github.com/scikit-learn/scikit-learn/issues/21755 */display: inline-block !important;position: relative;}#sk-container-id-2 div.sk-text-repr-fallback {display: none;}</style><div id=\"sk-container-id-2\" class=\"sk-top-container\"><div class=\"sk-text-repr-fallback\"><pre>RandomForestRegressor()</pre><b>In a Jupyter environment, please rerun this cell to show the HTML representation or trust the notebook. <br />On GitHub, the HTML representation is unable to render, please try loading this page with nbviewer.org.</b></div><div class=\"sk-container\" hidden><div class=\"sk-item\"><div class=\"sk-estimator sk-toggleable\"><input class=\"sk-toggleable__control sk-hidden--visually\" id=\"sk-estimator-id-2\" type=\"checkbox\" checked><label for=\"sk-estimator-id-2\" class=\"sk-toggleable__label sk-toggleable__label-arrow\">RandomForestRegressor</label><div class=\"sk-toggleable__content\"><pre>RandomForestRegressor()</pre></div></div></div></div></div>"
      ],
      "text/plain": [
       "RandomForestRegressor()"
      ]
     },
     "execution_count": 19,
     "metadata": {},
     "output_type": "execute_result"
    }
   ],
   "source": [
    "from sklearn.model_selection import train_test_split\n",
    "from sklearn.ensemble import RandomForestRegressor\n",
    "np.random.seed(0)\n",
    "X_train, X_test, y_train, y_test = train_test_split(transformed_X, y, test_size=0.2)\n",
    "model = RandomForestRegressor(n_estimators=100)\n",
    "model.fit(X_train, y_train)\n",
    "\n"
   ]
  },
  {
   "cell_type": "code",
   "execution_count": 21,
   "id": "f7f66ecd-6f92-452e-b484-1a16c0d6841f",
   "metadata": {},
   "outputs": [
    {
     "data": {
      "text/plain": [
       "0.8182894951367332"
      ]
     },
     "execution_count": 21,
     "metadata": {},
     "output_type": "execute_result"
    }
   ],
   "source": [
    "model.score(X_test,y_test)"
   ]
  },
  {
   "cell_type": "markdown",
   "id": "9217e087-975a-4ec5-9d03-fdf3a89345ce",
   "metadata": {},
   "source": [
    "### 2.3 saving the model "
   ]
  },
  {
   "cell_type": "code",
   "execution_count": 85,
   "id": "5eaab9c8-eece-4b8d-975e-dbefb63f7b7c",
   "metadata": {},
   "outputs": [],
   "source": [
    "#import pickle\n",
    "\n",
    "#pickle.dump(model, open(\"random_forest_81_percent.pkl\", \"wb\"))"
   ]
  },
  {
   "cell_type": "markdown",
   "id": "da99d263-2227-4164-a74a-a8b0a4bfe0d3",
   "metadata": {},
   "source": [
    "## 3 Evaluating our models \n"
   ]
  },
  {
   "cell_type": "markdown",
   "id": "39fbdbda-9ab7-47ed-accc-3331307fb827",
   "metadata": {},
   "source": [
    "### 3.1 RandomForestRegressor evaluation"
   ]
  },
  {
   "cell_type": "code",
   "execution_count": 26,
   "id": "f6c52b54-3475-4afa-a944-43f20a5a280b",
   "metadata": {},
   "outputs": [],
   "source": [
    "from sklearn.metrics import r2_score\n",
    "from sklearn.metrics import mean_absolute_error\n",
    "from sklearn.metrics import mean_squared_error"
   ]
  },
  {
   "cell_type": "code",
   "execution_count": 27,
   "id": "7fd55304-26dd-4a05-a810-8b5987a9a4e6",
   "metadata": {},
   "outputs": [
    {
     "name": "stdout",
     "output_type": "stream",
     "text": [
      "r2 score: 0.8182894951367332\n",
      "MAE: 14.225409299014014\n",
      "MSE: 1076.8408832291477\n"
     ]
    }
   ],
   "source": [
    "y_preds= model.predict(X_test)\n",
    "\n",
    "\n",
    "print(\"r2 score:\",r2_score(y_true=y_test,y_pred=y_preds) )\n",
    "print(\"MAE:\" ,mean_absolute_error(y_test,y_preds))\n",
    "print(\"MSE:\" ,mean_squared_error(y_test,y_preds))"
   ]
  },
  {
   "cell_type": "code",
   "execution_count": 28,
   "id": "25123b5f-9ce6-4731-bac9-4e27055fdc11",
   "metadata": {},
   "outputs": [],
   "source": [
    "from sklearn.model_selection import cross_val_score"
   ]
  },
  {
   "cell_type": "code",
   "execution_count": 34,
   "id": "d1e29359-9033-49a3-8873-ed6f961a20d0",
   "metadata": {},
   "outputs": [
    {
     "data": {
      "text/plain": [
       "0.6726471679348436"
      ]
     },
     "execution_count": 34,
     "metadata": {},
     "output_type": "execute_result"
    }
   ],
   "source": [
    "cv_acc = cross_val_score(model, transformed_X,y ,cv=5) \n",
    "cv_acc.mean()"
   ]
  },
  {
   "cell_type": "code",
   "execution_count": 33,
   "id": "67e63532-8c27-433e-add5-394502f0c89e",
   "metadata": {},
   "outputs": [
    {
     "data": {
      "text/plain": [
       "0.6735615576561427"
      ]
     },
     "execution_count": 33,
     "metadata": {},
     "output_type": "execute_result"
    }
   ],
   "source": []
  },
  {
   "cell_type": "code",
   "execution_count": 32,
   "id": "c1938557-fe3c-4eec-aa7f-ebbbec9e45fa",
   "metadata": {},
   "outputs": [
    {
     "ename": "ValueError",
     "evalue": "\nAll the 5 fits failed.\nIt is very likely that your model is misconfigured.\nYou can try to debug the error by setting error_score='raise'.\n\nBelow are more details about the failures:\n--------------------------------------------------------------------------------\n1 fits failed with the following error:\nTraceback (most recent call last):\n  File \"D:\\anaconda\\envs\\quant\\lib\\site-packages\\sklearn\\model_selection\\_validation.py\", line 729, in _fit_and_score\n    estimator.fit(X_train, y_train, **fit_params)\n  File \"D:\\anaconda\\envs\\quant\\lib\\site-packages\\sklearn\\base.py\", line 1152, in wrapper\n    return fit_method(estimator, *args, **kwargs)\n  File \"D:\\anaconda\\envs\\quant\\lib\\site-packages\\sklearn\\ensemble\\_forest.py\", line 348, in fit\n    X, y = self._validate_data(\n  File \"D:\\anaconda\\envs\\quant\\lib\\site-packages\\sklearn\\base.py\", line 622, in _validate_data\n    X, y = check_X_y(X, y, **check_params)\n  File \"D:\\anaconda\\envs\\quant\\lib\\site-packages\\sklearn\\utils\\validation.py\", line 1146, in check_X_y\n    X = check_array(\n  File \"D:\\anaconda\\envs\\quant\\lib\\site-packages\\sklearn\\utils\\validation.py\", line 836, in check_array\n    array = array.astype(new_dtype)\n  File \"D:\\anaconda\\envs\\quant\\lib\\site-packages\\pandas\\core\\generic.py\", line 6324, in astype\n    new_data = self._mgr.astype(dtype=dtype, copy=copy, errors=errors)\n  File \"D:\\anaconda\\envs\\quant\\lib\\site-packages\\pandas\\core\\internals\\managers.py\", line 451, in astype\n    return self.apply(\n  File \"D:\\anaconda\\envs\\quant\\lib\\site-packages\\pandas\\core\\internals\\managers.py\", line 352, in apply\n    applied = getattr(b, f)(**kwargs)\n  File \"D:\\anaconda\\envs\\quant\\lib\\site-packages\\pandas\\core\\internals\\blocks.py\", line 511, in astype\n    new_values = astype_array_safe(values, dtype, copy=copy, errors=errors)\n  File \"D:\\anaconda\\envs\\quant\\lib\\site-packages\\pandas\\core\\dtypes\\astype.py\", line 242, in astype_array_safe\n    new_values = astype_array(values, dtype, copy=copy)\n  File \"D:\\anaconda\\envs\\quant\\lib\\site-packages\\pandas\\core\\dtypes\\astype.py\", line 187, in astype_array\n    values = _astype_nansafe(values, dtype, copy=copy)\n  File \"D:\\anaconda\\envs\\quant\\lib\\site-packages\\pandas\\core\\dtypes\\astype.py\", line 138, in _astype_nansafe\n    return arr.astype(dtype, copy=True)\nValueError: could not convert string to float: 'I.'\n\n--------------------------------------------------------------------------------\n4 fits failed with the following error:\nTraceback (most recent call last):\n  File \"D:\\anaconda\\envs\\quant\\lib\\site-packages\\sklearn\\model_selection\\_validation.py\", line 729, in _fit_and_score\n    estimator.fit(X_train, y_train, **fit_params)\n  File \"D:\\anaconda\\envs\\quant\\lib\\site-packages\\sklearn\\base.py\", line 1152, in wrapper\n    return fit_method(estimator, *args, **kwargs)\n  File \"D:\\anaconda\\envs\\quant\\lib\\site-packages\\sklearn\\ensemble\\_forest.py\", line 348, in fit\n    X, y = self._validate_data(\n  File \"D:\\anaconda\\envs\\quant\\lib\\site-packages\\sklearn\\base.py\", line 622, in _validate_data\n    X, y = check_X_y(X, y, **check_params)\n  File \"D:\\anaconda\\envs\\quant\\lib\\site-packages\\sklearn\\utils\\validation.py\", line 1146, in check_X_y\n    X = check_array(\n  File \"D:\\anaconda\\envs\\quant\\lib\\site-packages\\sklearn\\utils\\validation.py\", line 836, in check_array\n    array = array.astype(new_dtype)\n  File \"D:\\anaconda\\envs\\quant\\lib\\site-packages\\pandas\\core\\generic.py\", line 6324, in astype\n    new_data = self._mgr.astype(dtype=dtype, copy=copy, errors=errors)\n  File \"D:\\anaconda\\envs\\quant\\lib\\site-packages\\pandas\\core\\internals\\managers.py\", line 451, in astype\n    return self.apply(\n  File \"D:\\anaconda\\envs\\quant\\lib\\site-packages\\pandas\\core\\internals\\managers.py\", line 352, in apply\n    applied = getattr(b, f)(**kwargs)\n  File \"D:\\anaconda\\envs\\quant\\lib\\site-packages\\pandas\\core\\internals\\blocks.py\", line 511, in astype\n    new_values = astype_array_safe(values, dtype, copy=copy, errors=errors)\n  File \"D:\\anaconda\\envs\\quant\\lib\\site-packages\\pandas\\core\\dtypes\\astype.py\", line 242, in astype_array_safe\n    new_values = astype_array(values, dtype, copy=copy)\n  File \"D:\\anaconda\\envs\\quant\\lib\\site-packages\\pandas\\core\\dtypes\\astype.py\", line 187, in astype_array\n    values = _astype_nansafe(values, dtype, copy=copy)\n  File \"D:\\anaconda\\envs\\quant\\lib\\site-packages\\pandas\\core\\dtypes\\astype.py\", line 138, in _astype_nansafe\n    return arr.astype(dtype, copy=True)\nValueError: could not convert string to float: 'III.'\n",
     "output_type": "error",
     "traceback": [
      "\u001b[1;31m---------------------------------------------------------------------------\u001b[0m",
      "\u001b[1;31mValueError\u001b[0m                                Traceback (most recent call last)",
      "Cell \u001b[1;32mIn[32], line 1\u001b[0m\n\u001b[1;32m----> 1\u001b[0m cv_acc \u001b[38;5;241m=\u001b[39m \u001b[43mcross_val_score\u001b[49m\u001b[43m(\u001b[49m\u001b[43mmodel\u001b[49m\u001b[43m,\u001b[49m\u001b[43m \u001b[49m\u001b[43mX\u001b[49m\u001b[43m,\u001b[49m\u001b[43my\u001b[49m\u001b[43m \u001b[49m\u001b[43m,\u001b[49m\u001b[43mcv\u001b[49m\u001b[38;5;241;43m=\u001b[39;49m\u001b[38;5;241;43m5\u001b[39;49m\u001b[43m)\u001b[49m\n",
      "File \u001b[1;32mD:\\anaconda\\envs\\quant\\lib\\site-packages\\sklearn\\model_selection\\_validation.py:562\u001b[0m, in \u001b[0;36mcross_val_score\u001b[1;34m(estimator, X, y, groups, scoring, cv, n_jobs, verbose, fit_params, pre_dispatch, error_score)\u001b[0m\n\u001b[0;32m    559\u001b[0m \u001b[38;5;66;03m# To ensure multimetric format is not supported\u001b[39;00m\n\u001b[0;32m    560\u001b[0m scorer \u001b[38;5;241m=\u001b[39m check_scoring(estimator, scoring\u001b[38;5;241m=\u001b[39mscoring)\n\u001b[1;32m--> 562\u001b[0m cv_results \u001b[38;5;241m=\u001b[39m \u001b[43mcross_validate\u001b[49m\u001b[43m(\u001b[49m\n\u001b[0;32m    563\u001b[0m \u001b[43m    \u001b[49m\u001b[43mestimator\u001b[49m\u001b[38;5;241;43m=\u001b[39;49m\u001b[43mestimator\u001b[49m\u001b[43m,\u001b[49m\n\u001b[0;32m    564\u001b[0m \u001b[43m    \u001b[49m\u001b[43mX\u001b[49m\u001b[38;5;241;43m=\u001b[39;49m\u001b[43mX\u001b[49m\u001b[43m,\u001b[49m\n\u001b[0;32m    565\u001b[0m \u001b[43m    \u001b[49m\u001b[43my\u001b[49m\u001b[38;5;241;43m=\u001b[39;49m\u001b[43my\u001b[49m\u001b[43m,\u001b[49m\n\u001b[0;32m    566\u001b[0m \u001b[43m    \u001b[49m\u001b[43mgroups\u001b[49m\u001b[38;5;241;43m=\u001b[39;49m\u001b[43mgroups\u001b[49m\u001b[43m,\u001b[49m\n\u001b[0;32m    567\u001b[0m \u001b[43m    \u001b[49m\u001b[43mscoring\u001b[49m\u001b[38;5;241;43m=\u001b[39;49m\u001b[43m{\u001b[49m\u001b[38;5;124;43m\"\u001b[39;49m\u001b[38;5;124;43mscore\u001b[39;49m\u001b[38;5;124;43m\"\u001b[39;49m\u001b[43m:\u001b[49m\u001b[43m \u001b[49m\u001b[43mscorer\u001b[49m\u001b[43m}\u001b[49m\u001b[43m,\u001b[49m\n\u001b[0;32m    568\u001b[0m \u001b[43m    \u001b[49m\u001b[43mcv\u001b[49m\u001b[38;5;241;43m=\u001b[39;49m\u001b[43mcv\u001b[49m\u001b[43m,\u001b[49m\n\u001b[0;32m    569\u001b[0m \u001b[43m    \u001b[49m\u001b[43mn_jobs\u001b[49m\u001b[38;5;241;43m=\u001b[39;49m\u001b[43mn_jobs\u001b[49m\u001b[43m,\u001b[49m\n\u001b[0;32m    570\u001b[0m \u001b[43m    \u001b[49m\u001b[43mverbose\u001b[49m\u001b[38;5;241;43m=\u001b[39;49m\u001b[43mverbose\u001b[49m\u001b[43m,\u001b[49m\n\u001b[0;32m    571\u001b[0m \u001b[43m    \u001b[49m\u001b[43mfit_params\u001b[49m\u001b[38;5;241;43m=\u001b[39;49m\u001b[43mfit_params\u001b[49m\u001b[43m,\u001b[49m\n\u001b[0;32m    572\u001b[0m \u001b[43m    \u001b[49m\u001b[43mpre_dispatch\u001b[49m\u001b[38;5;241;43m=\u001b[39;49m\u001b[43mpre_dispatch\u001b[49m\u001b[43m,\u001b[49m\n\u001b[0;32m    573\u001b[0m \u001b[43m    \u001b[49m\u001b[43merror_score\u001b[49m\u001b[38;5;241;43m=\u001b[39;49m\u001b[43merror_score\u001b[49m\u001b[43m,\u001b[49m\n\u001b[0;32m    574\u001b[0m \u001b[43m\u001b[49m\u001b[43m)\u001b[49m\n\u001b[0;32m    575\u001b[0m \u001b[38;5;28;01mreturn\u001b[39;00m cv_results[\u001b[38;5;124m\"\u001b[39m\u001b[38;5;124mtest_score\u001b[39m\u001b[38;5;124m\"\u001b[39m]\n",
      "File \u001b[1;32mD:\\anaconda\\envs\\quant\\lib\\site-packages\\sklearn\\utils\\_param_validation.py:214\u001b[0m, in \u001b[0;36mvalidate_params.<locals>.decorator.<locals>.wrapper\u001b[1;34m(*args, **kwargs)\u001b[0m\n\u001b[0;32m    208\u001b[0m \u001b[38;5;28;01mtry\u001b[39;00m:\n\u001b[0;32m    209\u001b[0m     \u001b[38;5;28;01mwith\u001b[39;00m config_context(\n\u001b[0;32m    210\u001b[0m         skip_parameter_validation\u001b[38;5;241m=\u001b[39m(\n\u001b[0;32m    211\u001b[0m             prefer_skip_nested_validation \u001b[38;5;129;01mor\u001b[39;00m global_skip_validation\n\u001b[0;32m    212\u001b[0m         )\n\u001b[0;32m    213\u001b[0m     ):\n\u001b[1;32m--> 214\u001b[0m         \u001b[38;5;28;01mreturn\u001b[39;00m \u001b[43mfunc\u001b[49m\u001b[43m(\u001b[49m\u001b[38;5;241;43m*\u001b[39;49m\u001b[43margs\u001b[49m\u001b[43m,\u001b[49m\u001b[43m \u001b[49m\u001b[38;5;241;43m*\u001b[39;49m\u001b[38;5;241;43m*\u001b[39;49m\u001b[43mkwargs\u001b[49m\u001b[43m)\u001b[49m\n\u001b[0;32m    215\u001b[0m \u001b[38;5;28;01mexcept\u001b[39;00m InvalidParameterError \u001b[38;5;28;01mas\u001b[39;00m e:\n\u001b[0;32m    216\u001b[0m     \u001b[38;5;66;03m# When the function is just a wrapper around an estimator, we allow\u001b[39;00m\n\u001b[0;32m    217\u001b[0m     \u001b[38;5;66;03m# the function to delegate validation to the estimator, but we replace\u001b[39;00m\n\u001b[0;32m    218\u001b[0m     \u001b[38;5;66;03m# the name of the estimator by the name of the function in the error\u001b[39;00m\n\u001b[0;32m    219\u001b[0m     \u001b[38;5;66;03m# message to avoid confusion.\u001b[39;00m\n\u001b[0;32m    220\u001b[0m     msg \u001b[38;5;241m=\u001b[39m re\u001b[38;5;241m.\u001b[39msub(\n\u001b[0;32m    221\u001b[0m         \u001b[38;5;124mr\u001b[39m\u001b[38;5;124m\"\u001b[39m\u001b[38;5;124mparameter of \u001b[39m\u001b[38;5;124m\\\u001b[39m\u001b[38;5;124mw+ must be\u001b[39m\u001b[38;5;124m\"\u001b[39m,\n\u001b[0;32m    222\u001b[0m         \u001b[38;5;124mf\u001b[39m\u001b[38;5;124m\"\u001b[39m\u001b[38;5;124mparameter of \u001b[39m\u001b[38;5;132;01m{\u001b[39;00mfunc\u001b[38;5;241m.\u001b[39m\u001b[38;5;18m__qualname__\u001b[39m\u001b[38;5;132;01m}\u001b[39;00m\u001b[38;5;124m must be\u001b[39m\u001b[38;5;124m\"\u001b[39m,\n\u001b[0;32m    223\u001b[0m         \u001b[38;5;28mstr\u001b[39m(e),\n\u001b[0;32m    224\u001b[0m     )\n",
      "File \u001b[1;32mD:\\anaconda\\envs\\quant\\lib\\site-packages\\sklearn\\model_selection\\_validation.py:328\u001b[0m, in \u001b[0;36mcross_validate\u001b[1;34m(estimator, X, y, groups, scoring, cv, n_jobs, verbose, fit_params, pre_dispatch, return_train_score, return_estimator, return_indices, error_score)\u001b[0m\n\u001b[0;32m    308\u001b[0m parallel \u001b[38;5;241m=\u001b[39m Parallel(n_jobs\u001b[38;5;241m=\u001b[39mn_jobs, verbose\u001b[38;5;241m=\u001b[39mverbose, pre_dispatch\u001b[38;5;241m=\u001b[39mpre_dispatch)\n\u001b[0;32m    309\u001b[0m results \u001b[38;5;241m=\u001b[39m parallel(\n\u001b[0;32m    310\u001b[0m     delayed(_fit_and_score)(\n\u001b[0;32m    311\u001b[0m         clone(estimator),\n\u001b[1;32m   (...)\u001b[0m\n\u001b[0;32m    325\u001b[0m     \u001b[38;5;28;01mfor\u001b[39;00m train, test \u001b[38;5;129;01min\u001b[39;00m indices\n\u001b[0;32m    326\u001b[0m )\n\u001b[1;32m--> 328\u001b[0m \u001b[43m_warn_or_raise_about_fit_failures\u001b[49m\u001b[43m(\u001b[49m\u001b[43mresults\u001b[49m\u001b[43m,\u001b[49m\u001b[43m \u001b[49m\u001b[43merror_score\u001b[49m\u001b[43m)\u001b[49m\n\u001b[0;32m    330\u001b[0m \u001b[38;5;66;03m# For callable scoring, the return type is only know after calling. If the\u001b[39;00m\n\u001b[0;32m    331\u001b[0m \u001b[38;5;66;03m# return type is a dictionary, the error scores can now be inserted with\u001b[39;00m\n\u001b[0;32m    332\u001b[0m \u001b[38;5;66;03m# the correct key.\u001b[39;00m\n\u001b[0;32m    333\u001b[0m \u001b[38;5;28;01mif\u001b[39;00m \u001b[38;5;28mcallable\u001b[39m(scoring):\n",
      "File \u001b[1;32mD:\\anaconda\\envs\\quant\\lib\\site-packages\\sklearn\\model_selection\\_validation.py:414\u001b[0m, in \u001b[0;36m_warn_or_raise_about_fit_failures\u001b[1;34m(results, error_score)\u001b[0m\n\u001b[0;32m    407\u001b[0m \u001b[38;5;28;01mif\u001b[39;00m num_failed_fits \u001b[38;5;241m==\u001b[39m num_fits:\n\u001b[0;32m    408\u001b[0m     all_fits_failed_message \u001b[38;5;241m=\u001b[39m (\n\u001b[0;32m    409\u001b[0m         \u001b[38;5;124mf\u001b[39m\u001b[38;5;124m\"\u001b[39m\u001b[38;5;130;01m\\n\u001b[39;00m\u001b[38;5;124mAll the \u001b[39m\u001b[38;5;132;01m{\u001b[39;00mnum_fits\u001b[38;5;132;01m}\u001b[39;00m\u001b[38;5;124m fits failed.\u001b[39m\u001b[38;5;130;01m\\n\u001b[39;00m\u001b[38;5;124m\"\u001b[39m\n\u001b[0;32m    410\u001b[0m         \u001b[38;5;124m\"\u001b[39m\u001b[38;5;124mIt is very likely that your model is misconfigured.\u001b[39m\u001b[38;5;130;01m\\n\u001b[39;00m\u001b[38;5;124m\"\u001b[39m\n\u001b[0;32m    411\u001b[0m         \u001b[38;5;124m\"\u001b[39m\u001b[38;5;124mYou can try to debug the error by setting error_score=\u001b[39m\u001b[38;5;124m'\u001b[39m\u001b[38;5;124mraise\u001b[39m\u001b[38;5;124m'\u001b[39m\u001b[38;5;124m.\u001b[39m\u001b[38;5;130;01m\\n\u001b[39;00m\u001b[38;5;130;01m\\n\u001b[39;00m\u001b[38;5;124m\"\u001b[39m\n\u001b[0;32m    412\u001b[0m         \u001b[38;5;124mf\u001b[39m\u001b[38;5;124m\"\u001b[39m\u001b[38;5;124mBelow are more details about the failures:\u001b[39m\u001b[38;5;130;01m\\n\u001b[39;00m\u001b[38;5;132;01m{\u001b[39;00mfit_errors_summary\u001b[38;5;132;01m}\u001b[39;00m\u001b[38;5;124m\"\u001b[39m\n\u001b[0;32m    413\u001b[0m     )\n\u001b[1;32m--> 414\u001b[0m     \u001b[38;5;28;01mraise\u001b[39;00m \u001b[38;5;167;01mValueError\u001b[39;00m(all_fits_failed_message)\n\u001b[0;32m    416\u001b[0m \u001b[38;5;28;01melse\u001b[39;00m:\n\u001b[0;32m    417\u001b[0m     some_fits_failed_message \u001b[38;5;241m=\u001b[39m (\n\u001b[0;32m    418\u001b[0m         \u001b[38;5;124mf\u001b[39m\u001b[38;5;124m\"\u001b[39m\u001b[38;5;130;01m\\n\u001b[39;00m\u001b[38;5;132;01m{\u001b[39;00mnum_failed_fits\u001b[38;5;132;01m}\u001b[39;00m\u001b[38;5;124m fits failed out of a total of \u001b[39m\u001b[38;5;132;01m{\u001b[39;00mnum_fits\u001b[38;5;132;01m}\u001b[39;00m\u001b[38;5;124m.\u001b[39m\u001b[38;5;130;01m\\n\u001b[39;00m\u001b[38;5;124m\"\u001b[39m\n\u001b[0;32m    419\u001b[0m         \u001b[38;5;124m\"\u001b[39m\u001b[38;5;124mThe score on these train-test partitions for these parameters\u001b[39m\u001b[38;5;124m\"\u001b[39m\n\u001b[1;32m   (...)\u001b[0m\n\u001b[0;32m    423\u001b[0m         \u001b[38;5;124mf\u001b[39m\u001b[38;5;124m\"\u001b[39m\u001b[38;5;124mBelow are more details about the failures:\u001b[39m\u001b[38;5;130;01m\\n\u001b[39;00m\u001b[38;5;132;01m{\u001b[39;00mfit_errors_summary\u001b[38;5;132;01m}\u001b[39;00m\u001b[38;5;124m\"\u001b[39m\n\u001b[0;32m    424\u001b[0m     )\n",
      "\u001b[1;31mValueError\u001b[0m: \nAll the 5 fits failed.\nIt is very likely that your model is misconfigured.\nYou can try to debug the error by setting error_score='raise'.\n\nBelow are more details about the failures:\n--------------------------------------------------------------------------------\n1 fits failed with the following error:\nTraceback (most recent call last):\n  File \"D:\\anaconda\\envs\\quant\\lib\\site-packages\\sklearn\\model_selection\\_validation.py\", line 729, in _fit_and_score\n    estimator.fit(X_train, y_train, **fit_params)\n  File \"D:\\anaconda\\envs\\quant\\lib\\site-packages\\sklearn\\base.py\", line 1152, in wrapper\n    return fit_method(estimator, *args, **kwargs)\n  File \"D:\\anaconda\\envs\\quant\\lib\\site-packages\\sklearn\\ensemble\\_forest.py\", line 348, in fit\n    X, y = self._validate_data(\n  File \"D:\\anaconda\\envs\\quant\\lib\\site-packages\\sklearn\\base.py\", line 622, in _validate_data\n    X, y = check_X_y(X, y, **check_params)\n  File \"D:\\anaconda\\envs\\quant\\lib\\site-packages\\sklearn\\utils\\validation.py\", line 1146, in check_X_y\n    X = check_array(\n  File \"D:\\anaconda\\envs\\quant\\lib\\site-packages\\sklearn\\utils\\validation.py\", line 836, in check_array\n    array = array.astype(new_dtype)\n  File \"D:\\anaconda\\envs\\quant\\lib\\site-packages\\pandas\\core\\generic.py\", line 6324, in astype\n    new_data = self._mgr.astype(dtype=dtype, copy=copy, errors=errors)\n  File \"D:\\anaconda\\envs\\quant\\lib\\site-packages\\pandas\\core\\internals\\managers.py\", line 451, in astype\n    return self.apply(\n  File \"D:\\anaconda\\envs\\quant\\lib\\site-packages\\pandas\\core\\internals\\managers.py\", line 352, in apply\n    applied = getattr(b, f)(**kwargs)\n  File \"D:\\anaconda\\envs\\quant\\lib\\site-packages\\pandas\\core\\internals\\blocks.py\", line 511, in astype\n    new_values = astype_array_safe(values, dtype, copy=copy, errors=errors)\n  File \"D:\\anaconda\\envs\\quant\\lib\\site-packages\\pandas\\core\\dtypes\\astype.py\", line 242, in astype_array_safe\n    new_values = astype_array(values, dtype, copy=copy)\n  File \"D:\\anaconda\\envs\\quant\\lib\\site-packages\\pandas\\core\\dtypes\\astype.py\", line 187, in astype_array\n    values = _astype_nansafe(values, dtype, copy=copy)\n  File \"D:\\anaconda\\envs\\quant\\lib\\site-packages\\pandas\\core\\dtypes\\astype.py\", line 138, in _astype_nansafe\n    return arr.astype(dtype, copy=True)\nValueError: could not convert string to float: 'I.'\n\n--------------------------------------------------------------------------------\n4 fits failed with the following error:\nTraceback (most recent call last):\n  File \"D:\\anaconda\\envs\\quant\\lib\\site-packages\\sklearn\\model_selection\\_validation.py\", line 729, in _fit_and_score\n    estimator.fit(X_train, y_train, **fit_params)\n  File \"D:\\anaconda\\envs\\quant\\lib\\site-packages\\sklearn\\base.py\", line 1152, in wrapper\n    return fit_method(estimator, *args, **kwargs)\n  File \"D:\\anaconda\\envs\\quant\\lib\\site-packages\\sklearn\\ensemble\\_forest.py\", line 348, in fit\n    X, y = self._validate_data(\n  File \"D:\\anaconda\\envs\\quant\\lib\\site-packages\\sklearn\\base.py\", line 622, in _validate_data\n    X, y = check_X_y(X, y, **check_params)\n  File \"D:\\anaconda\\envs\\quant\\lib\\site-packages\\sklearn\\utils\\validation.py\", line 1146, in check_X_y\n    X = check_array(\n  File \"D:\\anaconda\\envs\\quant\\lib\\site-packages\\sklearn\\utils\\validation.py\", line 836, in check_array\n    array = array.astype(new_dtype)\n  File \"D:\\anaconda\\envs\\quant\\lib\\site-packages\\pandas\\core\\generic.py\", line 6324, in astype\n    new_data = self._mgr.astype(dtype=dtype, copy=copy, errors=errors)\n  File \"D:\\anaconda\\envs\\quant\\lib\\site-packages\\pandas\\core\\internals\\managers.py\", line 451, in astype\n    return self.apply(\n  File \"D:\\anaconda\\envs\\quant\\lib\\site-packages\\pandas\\core\\internals\\managers.py\", line 352, in apply\n    applied = getattr(b, f)(**kwargs)\n  File \"D:\\anaconda\\envs\\quant\\lib\\site-packages\\pandas\\core\\internals\\blocks.py\", line 511, in astype\n    new_values = astype_array_safe(values, dtype, copy=copy, errors=errors)\n  File \"D:\\anaconda\\envs\\quant\\lib\\site-packages\\pandas\\core\\dtypes\\astype.py\", line 242, in astype_array_safe\n    new_values = astype_array(values, dtype, copy=copy)\n  File \"D:\\anaconda\\envs\\quant\\lib\\site-packages\\pandas\\core\\dtypes\\astype.py\", line 187, in astype_array\n    values = _astype_nansafe(values, dtype, copy=copy)\n  File \"D:\\anaconda\\envs\\quant\\lib\\site-packages\\pandas\\core\\dtypes\\astype.py\", line 138, in _astype_nansafe\n    return arr.astype(dtype, copy=True)\nValueError: could not convert string to float: 'III.'\n"
     ]
    }
   ],
   "source": []
  },
  {
   "cell_type": "code",
   "execution_count": null,
   "id": "7d89c511-2cdf-41bc-875e-bd6acfda300f",
   "metadata": {},
   "outputs": [],
   "source": []
  }
 ],
 "metadata": {
  "kernelspec": {
   "display_name": "Python 3 (ipykernel)",
   "language": "python",
   "name": "python3"
  },
  "language_info": {
   "codemirror_mode": {
    "name": "ipython",
    "version": 3
   },
   "file_extension": ".py",
   "mimetype": "text/x-python",
   "name": "python",
   "nbconvert_exporter": "python",
   "pygments_lexer": "ipython3",
<<<<<<< HEAD
   "version": "3.11.5"
=======
   "version": "3.8.18"
>>>>>>> 48fc2e967b23083f2f1af5b4bfa01011c976adf5
  }
 },
 "nbformat": 4,
 "nbformat_minor": 5
}
