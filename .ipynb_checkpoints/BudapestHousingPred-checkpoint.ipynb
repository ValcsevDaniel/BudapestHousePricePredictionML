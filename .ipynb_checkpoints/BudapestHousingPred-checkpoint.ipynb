{
 "cells": [
  {
   "cell_type": "markdown",
   "id": "0672eb4b-84be-47bb-b2fb-e9af98d54ac7",
   "metadata": {},
   "source": [
    "# Predicting the price of a house in budapest using Machine learning \n",
    "\n",
    "### 1.1 getting the data\n",
    "- All of the data here was collected with the `ingatlan_com_webscraping.py` script from https://ingatlan.com\n",
    "- The program is made for scraping houses within specific districts\n",
    "- The collection of data takes a significant time, due to bot detection (approx. 6 hours for each district)"
   ]
  },
  {
   "cell_type": "code",
   "execution_count": 2,
   "id": "25901480-0992-4950-9e80-42da23ea3583",
   "metadata": {},
   "outputs": [],
   "source": [
    "import pandas as pd\n",
    "import numpy as np \n"
   ]
  },
  {
   "cell_type": "code",
   "execution_count": 32,
   "id": "c5e98418-2a8d-44e5-ac68-c909b75140c2",
   "metadata": {},
   "outputs": [],
   "source": [
    "first_second_third_part_1 = pd.read_csv(\"datasets/elso_masodik_harmadik_ker.csv\")\n",
    "first_second_third_part_2 = pd.read_csv(\"datasets/elso_masodik_harmadik_ker_ketto.csv\")\n",
    "first_second_third = pd.concat([first_second_third_part_1,first_second_third_part_2])\n",
    "fourth_fifth_part_1 = pd.read_csv(\"datasets/negy_ot_egy.csv\")\n",
    "fourth_fifth_2 = pd.read_csv(\"datasets/negy_ot_ketto.csv\")\n",
    "fourth_fifth = pd.concat([fourth_fifth_part_1,fourth_fifth_2])\n",
    "sixth = pd.read_csv(\"datasets/hatodik_ker.csv\")\n",
    "seventh = pd.read_csv(\"datasets/7ker_osszes.csv\")\n",
    "eigth_pt_1 = pd.read_csv(\"datasets/nyolcadik_ker.csv\")\n",
    "eigth_pt_2 = pd.read_csv(\"datasets/nyolcadik_ker_ketto.csv\")\n",
    "eigth = pd.concat([eigth_pt_1,eigth_pt_2])\n",
    "ninth = pd.read_csv(\"datasets/kilencedik_ker.csv\")\n",
    "tenth = pd.read_csv(\"datasets/tizedik_ker.csv\")\n",
    "eleventh = pd.read_csv(\"datasets/tizenegyedik_ker_elso.csv\")\n",
    "twelveth = pd.read_csv(\"datasets/tizenkettedik_ker.csv\")\n",
    "thirteenth_1 = pd.read_csv(\"datasets/tizenharmadik_ker_elso.csv\")\n",
    "thirteenth_2 = pd.read_csv(\"datasets/tizenharmadik_ker_masodik.csv\")\n",
    "thirteenth = pd.concat([thirteenth_1,thirteenth_2])\n",
    "fourteenth = pd.read_csv('datasets/ZugloiIngatlanok.csv')\n",
    "\n"
   ]
  },
  {
   "cell_type": "code",
   "execution_count": 35,
   "id": "8f5716e8-3b05-44b4-95fc-722ec826a34f",
   "metadata": {},
   "outputs": [
    {
     "data": {
      "text/plain": [
       "22500"
      ]
     },
     "execution_count": 35,
     "metadata": {},
     "output_type": "execute_result"
    }
   ],
   "source": [
    "#put all of the data together \n",
    "budapest_houses = pd.concat([first_second_third,fourth_fifth, sixth, seventh,eigth,ninth,tenth,eleventh,twelveth,thirteenth,fourteenth])\n",
    "len(budapest_houses)"
   ]
  },
  {
   "cell_type": "markdown",
   "id": "04a24857-0d4b-4d9c-ba8e-adfbe8aafd25",
   "metadata": {},
   "source": [
    "## 1.3 filtering the relevant features "
   ]
  },
  {
   "cell_type": "code",
   "execution_count": 36,
   "id": "50a1cb10-e055-4b93-89ec-04b9580feeb4",
   "metadata": {},
   "outputs": [
    {
     "name": "stdout",
     "output_type": "stream",
     "text": [
      "Index(['price', 'adress', 'size', 'rooms', 'half_rooms', 'balcony',\n",
      "       'Ingatlan állapota', 'Építés éve', 'Komfort', 'Emelet',\n",
      "       'Épület szintjei', 'Lift', 'Belmagasság', 'Légkondicionáló',\n",
      "       'Akadálymentesített',\n",
      "       'Átlag gázfogyasztás\\n                            |info|',\n",
      "       'Átlag áramfogyasztás\\n                            |info|',\n",
      "       'Rezsiköltség', 'Közös költség', 'Fürdő és wc', 'Tájolás', 'Kilátás',\n",
      "       'Erkély mérete', 'Kertkapcsolatos', 'Tetőtér', 'Parkolás',\n",
      "       'Parkolóhely ára', 'Fűtés', 'Szigetelés', 'Energiatanúsítvány',\n",
      "       'Panelprogram', 'Energetikai tanúsítvány', 'Unnamed: 0'],\n",
      "      dtype='object')\n"
     ]
    }
   ],
   "source": [
    "print(budapest_houses.columns)"
   ]
  },
  {
   "cell_type": "code",
   "execution_count": 37,
   "id": "3f5031d5-5006-4f58-a5bc-6ac877bd99e6",
   "metadata": {},
   "outputs": [
    {
     "data": {
      "text/plain": [
       "0       |nincs megadva|\n",
       "1                   van\n",
       "2                   van\n",
       "3                   van\n",
       "4                 nincs\n",
       "             ...       \n",
       "1835    |nincs megadva|\n",
       "1836    |nincs megadva|\n",
       "1837    |nincs megadva|\n",
       "1838    |nincs megadva|\n",
       "1839    |nincs megadva|\n",
       "Name: Légkondicionáló, Length: 22500, dtype: object"
      ]
     },
     "execution_count": 37,
     "metadata": {},
     "output_type": "execute_result"
    }
   ],
   "source": [
    "selected_columns = [\n",
    "    'price', 'adress', 'size', 'rooms', 'half_rooms', 'balcony',\n",
    "    'Ingatlan állapota', 'Építés éve', 'Komfort', 'Emelet',\n",
    "     'Lift', 'Légkondicionáló',\n",
    "    'Fürdő és wc', 'Tájolás', 'Kilátás',\n",
    "    \n",
    "]\n",
    "budapest_houses_selected = budapest_houses[selected_columns]\n",
    "budapest_houses_selected[\"Légkondicionáló\"]"
   ]
  },
  {
   "cell_type": "code",
   "execution_count": 38,
   "id": "4f719763-7965-4d86-beee-750eb16b2ba1",
   "metadata": {},
   "outputs": [
    {
     "data": {
      "text/html": [
       "<div>\n",
       "<style scoped>\n",
       "    .dataframe tbody tr th:only-of-type {\n",
       "        vertical-align: middle;\n",
       "    }\n",
       "\n",
       "    .dataframe tbody tr th {\n",
       "        vertical-align: top;\n",
       "    }\n",
       "\n",
       "    .dataframe thead th {\n",
       "        text-align: right;\n",
       "    }\n",
       "</style>\n",
       "<table border=\"1\" class=\"dataframe\">\n",
       "  <thead>\n",
       "    <tr style=\"text-align: right;\">\n",
       "      <th></th>\n",
       "      <th>price</th>\n",
       "      <th>address</th>\n",
       "      <th>size</th>\n",
       "      <th>rooms</th>\n",
       "      <th>half_rooms</th>\n",
       "      <th>balcony</th>\n",
       "      <th>property_condition</th>\n",
       "      <th>construction_year</th>\n",
       "      <th>comfort</th>\n",
       "      <th>floor</th>\n",
       "      <th>elevator</th>\n",
       "      <th>air_conditioning</th>\n",
       "      <th>bathroom_and_wc</th>\n",
       "      <th>orientation</th>\n",
       "      <th>view</th>\n",
       "    </tr>\n",
       "  </thead>\n",
       "  <tbody>\n",
       "    <tr>\n",
       "      <th>0</th>\n",
       "      <td>57.30</td>\n",
       "      <td>III. kerület, Pünkösdfürdő utca</td>\n",
       "      <td>44.0</td>\n",
       "      <td>2.0</td>\n",
       "      <td>0.0</td>\n",
       "      <td>4.18</td>\n",
       "      <td>új építésű</td>\n",
       "      <td>2023</td>\n",
       "      <td>duplakomfortos</td>\n",
       "      <td>7</td>\n",
       "      <td>van</td>\n",
       "      <td>|nincs megadva|</td>\n",
       "      <td>külön helyiségben</td>\n",
       "      <td>észak</td>\n",
       "      <td>utcai</td>\n",
       "    </tr>\n",
       "    <tr>\n",
       "      <th>1</th>\n",
       "      <td>765.00</td>\n",
       "      <td>II. kerület, Bem rakpart</td>\n",
       "      <td>150.0</td>\n",
       "      <td>4.0</td>\n",
       "      <td>0.0</td>\n",
       "      <td>NaN</td>\n",
       "      <td>felújított</td>\n",
       "      <td>1950 előtt</td>\n",
       "      <td>luxus</td>\n",
       "      <td>2</td>\n",
       "      <td>van</td>\n",
       "      <td>van</td>\n",
       "      <td>külön helyiségben</td>\n",
       "      <td>kelet</td>\n",
       "      <td>panorámás</td>\n",
       "    </tr>\n",
       "    <tr>\n",
       "      <th>2</th>\n",
       "      <td>199.00</td>\n",
       "      <td>II. kerület, Pasaréti út 84b</td>\n",
       "      <td>98.0</td>\n",
       "      <td>3.0</td>\n",
       "      <td>0.0</td>\n",
       "      <td>34.00</td>\n",
       "      <td>újszerű</td>\n",
       "      <td>2012</td>\n",
       "      <td>összkomfortos</td>\n",
       "      <td>3</td>\n",
       "      <td>van</td>\n",
       "      <td>van</td>\n",
       "      <td>külön és egyben is</td>\n",
       "      <td>délkelet</td>\n",
       "      <td>panorámás</td>\n",
       "    </tr>\n",
       "    <tr>\n",
       "      <th>3</th>\n",
       "      <td>40.90</td>\n",
       "      <td>III. kerület, Juhász Gyula utca 2.</td>\n",
       "      <td>51.0</td>\n",
       "      <td>2.0</td>\n",
       "      <td>0.0</td>\n",
       "      <td>4.00</td>\n",
       "      <td>felújított</td>\n",
       "      <td>1950 és 1980 között</td>\n",
       "      <td>összkomfortos</td>\n",
       "      <td>4</td>\n",
       "      <td>van</td>\n",
       "      <td>van</td>\n",
       "      <td>külön helyiségben</td>\n",
       "      <td>nyugat</td>\n",
       "      <td>panorámás</td>\n",
       "    </tr>\n",
       "    <tr>\n",
       "      <th>4</th>\n",
       "      <td>64.90</td>\n",
       "      <td>III. kerület, Váradi utca</td>\n",
       "      <td>66.0</td>\n",
       "      <td>3.0</td>\n",
       "      <td>0.0</td>\n",
       "      <td>6.00</td>\n",
       "      <td>felújított</td>\n",
       "      <td>|nincs megadva|</td>\n",
       "      <td>összkomfortos</td>\n",
       "      <td>3</td>\n",
       "      <td>nincs</td>\n",
       "      <td>nincs</td>\n",
       "      <td>külön helyiségben</td>\n",
       "      <td>|nincs megadva|</td>\n",
       "      <td>kertre néz</td>\n",
       "    </tr>\n",
       "    <tr>\n",
       "      <th>...</th>\n",
       "      <td>...</td>\n",
       "      <td>...</td>\n",
       "      <td>...</td>\n",
       "      <td>...</td>\n",
       "      <td>...</td>\n",
       "      <td>...</td>\n",
       "      <td>...</td>\n",
       "      <td>...</td>\n",
       "      <td>...</td>\n",
       "      <td>...</td>\n",
       "      <td>...</td>\n",
       "      <td>...</td>\n",
       "      <td>...</td>\n",
       "      <td>...</td>\n",
       "      <td>...</td>\n",
       "    </tr>\n",
       "    <tr>\n",
       "      <th>1835</th>\n",
       "      <td>49.90</td>\n",
       "      <td>XIV. kerület, Alsórákos</td>\n",
       "      <td>67.0</td>\n",
       "      <td>3.0</td>\n",
       "      <td>0.0</td>\n",
       "      <td>NaN</td>\n",
       "      <td>|nincs megadva|</td>\n",
       "      <td>|nincs megadva|</td>\n",
       "      <td>|nincs megadva|</td>\n",
       "      <td>2</td>\n",
       "      <td>nincs</td>\n",
       "      <td>|nincs megadva|</td>\n",
       "      <td>|nincs megadva|</td>\n",
       "      <td>kelet</td>\n",
       "      <td>utcai</td>\n",
       "    </tr>\n",
       "    <tr>\n",
       "      <th>1836</th>\n",
       "      <td>66.90</td>\n",
       "      <td>XIV. kerület, Herminamező</td>\n",
       "      <td>65.0</td>\n",
       "      <td>3.0</td>\n",
       "      <td>0.0</td>\n",
       "      <td>1.00</td>\n",
       "      <td>felújított</td>\n",
       "      <td>1950 és 1980 között</td>\n",
       "      <td>|nincs megadva|</td>\n",
       "      <td>2</td>\n",
       "      <td>|nincs megadva|</td>\n",
       "      <td>|nincs megadva|</td>\n",
       "      <td>|nincs megadva|</td>\n",
       "      <td>délnyugat</td>\n",
       "      <td>udvari</td>\n",
       "    </tr>\n",
       "    <tr>\n",
       "      <th>1837</th>\n",
       "      <td>42.00</td>\n",
       "      <td>XIV. kerület, Egressy út 80.</td>\n",
       "      <td>49.0</td>\n",
       "      <td>1.0</td>\n",
       "      <td>1.0</td>\n",
       "      <td>NaN</td>\n",
       "      <td>felújított</td>\n",
       "      <td>|nincs megadva|</td>\n",
       "      <td>összkomfortos</td>\n",
       "      <td>1</td>\n",
       "      <td>|nincs megadva|</td>\n",
       "      <td>|nincs megadva|</td>\n",
       "      <td>egy helyiségben</td>\n",
       "      <td>|nincs megadva|</td>\n",
       "      <td>utcai</td>\n",
       "    </tr>\n",
       "    <tr>\n",
       "      <th>1838</th>\n",
       "      <td>37.99</td>\n",
       "      <td>XIV. kerület, Alsórákos - Füredi utcai lakótelep</td>\n",
       "      <td>46.0</td>\n",
       "      <td>2.0</td>\n",
       "      <td>0.0</td>\n",
       "      <td>NaN</td>\n",
       "      <td>felújított</td>\n",
       "      <td>1950 és 1980 között</td>\n",
       "      <td>|nincs megadva|</td>\n",
       "      <td>8</td>\n",
       "      <td>van</td>\n",
       "      <td>|nincs megadva|</td>\n",
       "      <td>|nincs megadva|</td>\n",
       "      <td>délnyugat</td>\n",
       "      <td>utcai</td>\n",
       "    </tr>\n",
       "    <tr>\n",
       "      <th>1839</th>\n",
       "      <td>109.00</td>\n",
       "      <td>XIV. kerület, Alsórákos</td>\n",
       "      <td>71.0</td>\n",
       "      <td>1.0</td>\n",
       "      <td>2.0</td>\n",
       "      <td>13.00</td>\n",
       "      <td>újszerű</td>\n",
       "      <td>2020</td>\n",
       "      <td>összkomfortos</td>\n",
       "      <td>3</td>\n",
       "      <td>van</td>\n",
       "      <td>|nincs megadva|</td>\n",
       "      <td>|nincs megadva|</td>\n",
       "      <td>|nincs megadva|</td>\n",
       "      <td>udvari</td>\n",
       "    </tr>\n",
       "  </tbody>\n",
       "</table>\n",
       "<p>22500 rows × 15 columns</p>\n",
       "</div>"
      ],
      "text/plain": [
       "       price                                            address   size  rooms  \\\n",
       "0      57.30                   III. kerület, Pünkösdfürdő utca    44.0    2.0   \n",
       "1     765.00                          II. kerület, Bem rakpart   150.0    4.0   \n",
       "2     199.00                       II. kerület, Pasaréti út 84b   98.0    3.0   \n",
       "3      40.90                 III. kerület, Juhász Gyula utca 2.   51.0    2.0   \n",
       "4      64.90                         III. kerület, Váradi utca    66.0    3.0   \n",
       "...      ...                                                ...    ...    ...   \n",
       "1835   49.90                           XIV. kerület, Alsórákos    67.0    3.0   \n",
       "1836   66.90                         XIV. kerület, Herminamező    65.0    3.0   \n",
       "1837   42.00                       XIV. kerület, Egressy út 80.   49.0    1.0   \n",
       "1838   37.99  XIV. kerület, Alsórákos - Füredi utcai lakótelep    46.0    2.0   \n",
       "1839  109.00                           XIV. kerület, Alsórákos    71.0    1.0   \n",
       "\n",
       "      half_rooms  balcony property_condition    construction_year  \\\n",
       "0            0.0     4.18         új építésű                 2023   \n",
       "1            0.0      NaN         felújított           1950 előtt   \n",
       "2            0.0    34.00            újszerű                 2012   \n",
       "3            0.0     4.00         felújított  1950 és 1980 között   \n",
       "4            0.0     6.00         felújított      |nincs megadva|   \n",
       "...          ...      ...                ...                  ...   \n",
       "1835         0.0      NaN    |nincs megadva|      |nincs megadva|   \n",
       "1836         0.0     1.00         felújított  1950 és 1980 között   \n",
       "1837         1.0      NaN         felújított      |nincs megadva|   \n",
       "1838         0.0      NaN         felújított  1950 és 1980 között   \n",
       "1839         2.0    13.00            újszerű                 2020   \n",
       "\n",
       "              comfort floor         elevator air_conditioning  \\\n",
       "0      duplakomfortos     7              van  |nincs megadva|   \n",
       "1               luxus     2              van              van   \n",
       "2       összkomfortos     3              van              van   \n",
       "3       összkomfortos     4              van              van   \n",
       "4       összkomfortos     3            nincs            nincs   \n",
       "...               ...   ...              ...              ...   \n",
       "1835  |nincs megadva|     2            nincs  |nincs megadva|   \n",
       "1836  |nincs megadva|     2  |nincs megadva|  |nincs megadva|   \n",
       "1837    összkomfortos     1  |nincs megadva|  |nincs megadva|   \n",
       "1838  |nincs megadva|     8              van  |nincs megadva|   \n",
       "1839    összkomfortos     3              van  |nincs megadva|   \n",
       "\n",
       "         bathroom_and_wc      orientation        view  \n",
       "0      külön helyiségben            észak       utcai  \n",
       "1      külön helyiségben            kelet   panorámás  \n",
       "2     külön és egyben is         délkelet   panorámás  \n",
       "3      külön helyiségben           nyugat   panorámás  \n",
       "4      külön helyiségben  |nincs megadva|  kertre néz  \n",
       "...                  ...              ...         ...  \n",
       "1835     |nincs megadva|            kelet       utcai  \n",
       "1836     |nincs megadva|        délnyugat      udvari  \n",
       "1837     egy helyiségben  |nincs megadva|       utcai  \n",
       "1838     |nincs megadva|        délnyugat       utcai  \n",
       "1839     |nincs megadva|  |nincs megadva|      udvari  \n",
       "\n",
       "[22500 rows x 15 columns]"
      ]
     },
     "execution_count": 38,
     "metadata": {},
     "output_type": "execute_result"
    }
   ],
   "source": [
    "column_translation = {\n",
    "    'price': 'price',\n",
    "    'adress': 'address',\n",
    "    'size': 'size',\n",
    "    'rooms': 'rooms',\n",
    "    'half_rooms': 'half_rooms',\n",
    "    'balcony': 'balcony',\n",
    "    'Ingatlan állapota': 'property_condition',\n",
    "    'Építés éve': 'construction_year',\n",
    "    'Komfort': 'comfort',\n",
    "    'Emelet': 'floor',\n",
    "    'Lift': 'elevator',\n",
    "    'Légkondicionáló': 'air_conditioning',\n",
    "    'Fürdő és wc': 'bathroom_and_wc',\n",
    "    'Tájolás': 'orientation',\n",
    "    'Kilátás': 'view',\n",
    "    \n",
    "}\n",
    "\n",
    "# Rename columns using the translation dictionary\n",
    "budapest_houses_selected = budapest_houses_selected.rename(columns=column_translation)\n",
    "budapest_houses_selected"
   ]
  },
  {
   "cell_type": "markdown",
   "id": "768d4aba-a408-459f-96f2-c11aecafdb80",
   "metadata": {},
   "source": [
    "## 1.4.1 getting the data ready "
   ]
  },
  {
   "cell_type": "code",
   "execution_count": 39,
   "id": "f1397dc2-be4b-4c84-9cd6-547230149d2b",
   "metadata": {},
   "outputs": [],
   "source": [
    "HAS_ENCODING_FOR_AC = {\n",
    "    \"van\" : True,\n",
    "    \"nincs\" : False,\n",
    "    \"|nincs megadva|\" : False\n",
    "    }\n",
    "HAS_ENCODING_FOR_ELEVATOR = {\n",
    "    \"van\" : True,\n",
    "    \"nincs\" : False\n",
    "    }    \n",
    "\n",
    "\n",
    "def Floor_Parse(x):\n",
    "    if \"földszint\" in str(x):\n",
    "        return 0\n",
    "    else:\n",
    "        try:\n",
    "            return float(x)\n",
    "        except:\n",
    "            pass\n",
    "def Construction_Year_Parse(x):\n",
    "    x = str(x).split()\n",
    "    if len(x) > 2:\n",
    "        try:\n",
    "            return (float(x[0]) + float(x[2])) / 2\n",
    "        except:\n",
    "            pass\n",
    "    elif len(x) > 1: \n",
    "        try:\n",
    "            return float(x[0])\n",
    "        except:\n",
    "            pass\n",
    "    elif len(x) == 1:\n",
    "        try:\n",
    "            return float(x[0])\n",
    "        except:\n",
    "            pass\n",
    "def adress_parse_to_district(x):\n",
    "    x = str(x).split()\n",
    "    try:\n",
    "        return x[0]\n",
    "    except:\n",
    "        pass\n"
   ]
  },
  {
   "cell_type": "code",
   "execution_count": 40,
   "id": "41c06353-1ec4-4150-903a-168fe50d7d4e",
   "metadata": {},
   "outputs": [],
   "source": [
    "budapest_houses_selected[\"air_conditioning\"] = budapest_houses_selected[\"air_conditioning\"].map(HAS_ENCODING_FOR_AC)\n",
    "budapest_houses_selected[\"elevator\"] = budapest_houses_selected[\"elevator\"].map(HAS_ENCODING_FOR_ELEVATOR)\n",
    "#budapest_houses_selected[\"construction_year\"] = budapest_houses_selected[\"construction_year\"].apply(lambda x : Construction_Year_Parse(x))\n",
    "budapest_houses_selected[\"balcony\"].fillna(0,inplace=True)\n",
    "budapest_houses_selected[\"address\"] = budapest_houses_selected[\"address\"].apply(lambda x : adress_parse_to_district(x))\n",
    "budapest_houses_selected[\"floor\"] = budapest_houses_selected[\"floor\"].apply(lambda x : Floor_Parse(x))\n",
    "budapest_houses_selected[\"floor\"].fillna(0,inplace=True)\n",
    "budapest_houses_selected[\"elevator\"].fillna(False,inplace=True)"
   ]
  },
  {
   "cell_type": "code",
   "execution_count": 41,
   "id": "943d8d1c",
   "metadata": {},
   "outputs": [],
   "source": [
    "budapest_houses_selected[\"price/sqmetre\"] = budapest_houses_selected['price'] / budapest_houses_selected['size']"
   ]
  },
  {
   "cell_type": "markdown",
   "id": "98ebe875-f3cc-4266-b2f3-c822f999fd1f",
   "metadata": {},
   "source": [
    "## 1.4.2 exploring the data"
   ]
  },
  {
   "cell_type": "code",
   "execution_count": 42,
   "id": "e03e0b44-bfe2-4719-8e43-a76fd7f6631d",
   "metadata": {},
   "outputs": [],
   "source": [
    "average_price_per_district = budapest_houses_selected.groupby('address')['price/sqmetre'].mean() "
   ]
  },
  {
   "cell_type": "code",
   "execution_count": 65,
   "id": "bfc5d0a6-6bd8-4fce-a085-4d1086135cae",
   "metadata": {},
   "outputs": [
    {
     "data": {
      "image/png": "[encoded data removed]",
      "text/plain": [
       "<Figure size 640x480 with 1 Axes>"
      ]
     },
     "metadata": {},
     "output_type": "display_data"
    },
    {
     "data": {
      "text/plain": [
       "<Figure size 2000x1500 with 0 Axes>"
      ]
     },
     "metadata": {},
     "output_type": "display_data"
    }
   ],
   "source": [
    "import matplotlib.pyplot as plt\n",
    "plt.rcdefaults()\n",
    "fig, ax = plt.subplots()\n",
    "plt.figure(figsize=(20,15))\n",
    "bars = ax.bar(average_price_per_district.index ,average_price_per_district.values,width=0.8,edgecolor='black')\n",
    "ax.set_ylabel('Price (million HUF)')\n",
    "ax.set_xlabel('District')\n",
    "ax.set_title('Average price of a square metre in different districts')\n",
    "ax.axhline(y=average_price_per_district.values.mean(),c='r',linestyle='--',label='Average')\n",
    "\n",
    "ax.spines['top'].set_visible(False)\n",
    "ax.spines['right'].set_visible(False)\n",
    "ax.spines['left'].set_visible(False)\n",
    "ax.spines['bottom'].set_color('#DDDDDD')\n",
    "\n",
    "ax.tick_params(bottom=False, left=False)\n",
    "\n",
    "ax.set_axisbelow(True)\n",
    "ax.yaxis.grid(True, color='#EEEEEE')\n",
    "ax.xaxis.grid(False)\n",
    "\n",
    "\n",
    "bar_color = bars[0].get_facecolor()\n",
    "for bar in bars:\n",
    "  ax.text(\n",
    "      bar.get_x() + bar.get_width() / 2,\n",
    "      bar.get_height() + 0.01,\n",
    "      s = str(round(bar.get_height(), 2)),\n",
    "      horizontalalignment='center',\n",
    "      color=bar_color,\n",
    "      weight='bold'\n",
    "  )\n",
    "\n",
    "plt.show()\n"
   ]
  },
  {
   "cell_type": "code",
   "execution_count": 10,
   "id": "daf39e8b-07f2-40b8-8c98-79c7aabdad42",
   "metadata": {},
   "outputs": [],
   "source": [
    "\n",
    "budapest_houses_selected.isna().sum()\n",
    "budapest_houses_selected.dropna(inplace=True)\n"
   ]
  },
  {
   "cell_type": "markdown",
   "id": "60d4c843-c5e5-46a6-95e7-e6d85f5518f1",
   "metadata": {},
   "source": [
    "## 2.0 Finding the ideal machine learning model and training it "
   ]
  },
  {
   "cell_type": "code",
   "execution_count": 11,
   "id": "1d4244fe-1575-4d21-92bd-3366df56a5a0",
   "metadata": {},
   "outputs": [],
   "source": [
    "X = budapest_houses_selected.drop(\"price\", axis=1)\n",
    "y = budapest_houses_selected[\"price\"]"
   ]
  },
  {
   "cell_type": "code",
   "execution_count": 12,
   "id": "0d1d2872-7cd3-4ead-b384-cb2f25e4e296",
   "metadata": {},
   "outputs": [
    {
     "data": {
      "text/plain": [
       "<16896x72 sparse matrix of type '<class 'numpy.float64'>'\n",
       "\twith 208548 stored elements in Compressed Sparse Row format>"
      ]
     },
     "execution_count": 12,
     "metadata": {},
     "output_type": "execute_result"
    }
   ],
   "source": [
    "# 1. Import OneHotEncoder and ColumnTransformer\n",
    "from sklearn.preprocessing import OneHotEncoder\n",
    "from sklearn.compose import ColumnTransformer\n",
    "budapest_houses_selected.dropna()\n",
    "# 2. Define the categorical features to transform\n",
    "categorical_features = [\"address\", \"property_condition\",\"construction_year\",\"comfort\",\"elevator\",\"air_conditioning\",\"bathroom_and_wc\",\"orientation\",\"view\"]\n",
    "\n",
    "# 3. Create an instance of OneHotEncoder\n",
    "one_hot = OneHotEncoder()\n",
    "\n",
    "# 4. Create an instance of ColumnTransformer\n",
    "transformer = ColumnTransformer([(\"one_hot\", # name\n",
    "                                  one_hot, # transformer\n",
    "                                  categorical_features)], # columns to transform\n",
    "                                  remainder=\"passthrough\") # what to do with the rest of the columns? (\"passthrough\" = leave unchanged) \n",
    "\n",
    "# 5. Turn the categorical features into numbers (this will return an array-like sparse matrix, not a DataFrame)\n",
    "transformed_X = transformer.fit_transform(X)\n",
    "transformed_X"
   ]
  },
  {
   "cell_type": "code",
   "execution_count": 13,
   "id": "f3425138-691d-4073-bbf0-6ad21326ca89",
   "metadata": {},
   "outputs": [
    {
     "data": {
      "text/plain": [
       "16896"
      ]
     },
     "execution_count": 13,
     "metadata": {},
     "output_type": "execute_result"
    }
   ],
   "source": [
    "len(X)"
   ]
  },
  {
   "cell_type": "markdown",
   "id": "e25b014d-ce6c-414c-a300-006f1c960662",
   "metadata": {},
   "source": [
    "### 2.1 Experimenting with Ridge model"
   ]
  },
  {
   "cell_type": "code",
   "execution_count": 80,
   "id": "ffedfd78-2f7e-46ee-9507-2eff68b29bd2",
   "metadata": {},
   "outputs": [
    {
     "data": {
      "text/plain": [
       "0.7574691514591696"
      ]
     },
     "execution_count": 80,
     "metadata": {},
     "output_type": "execute_result"
    }
   ],
   "source": [
    "from sklearn.model_selection import train_test_split\n",
    "from sklearn.linear_model import Ridge\n",
    "X_train, X_test, y_train, y_test = train_test_split(transformed_X, y, test_size=0.2)\n",
    "model = Ridge()\n",
    "model.fit(X_train, y_train)\n",
    "\n",
    "model.score(X_test, y_test)"
   ]
  },
  {
   "cell_type": "markdown",
   "id": "c3472e1d-b0cf-402e-affe-646aa8d6cfb7",
   "metadata": {},
   "source": [
    "### 2.2 RandomForestRegressor"
   ]
  },
  {
   "cell_type": "code",
   "execution_count": 19,
   "id": "7c6280ad-38eb-4fdf-b82e-1a39a30929bc",
   "metadata": {},
   "outputs": [
    {
     "data": {
      "text/html": [
       "<style>#sk-container-id-2 {color: black;}#sk-container-id-2 pre{padding: 0;}#sk-container-id-2 div.sk-toggleable {background-color: white;}#sk-container-id-2 label.sk-toggleable__label {cursor: pointer;display: block;width: 100%;margin-bottom: 0;padding: 0.3em;box-sizing: border-box;text-align: center;}#sk-container-id-2 label.sk-toggleable__label-arrow:before {content: \"▸\";float: left;margin-right: 0.25em;color: #696969;}#sk-container-id-2 label.sk-toggleable__label-arrow:hover:before {color: black;}#sk-container-id-2 div.sk-estimator:hover label.sk-toggleable__label-arrow:before {color: black;}#sk-container-id-2 div.sk-toggleable__content {max-height: 0;max-width: 0;overflow: hidden;text-align: left;background-color: #f0f8ff;}#sk-container-id-2 div.sk-toggleable__content pre {margin: 0.2em;color: black;border-radius: 0.25em;background-color: #f0f8ff;}#sk-container-id-2 input.sk-toggleable__control:checked~div.sk-toggleable__content {max-height: 200px;max-width: 100%;overflow: auto;}#sk-container-id-2 input.sk-toggleable__control:checked~label.sk-toggleable__label-arrow:before {content: \"▾\";}#sk-container-id-2 div.sk-estimator input.sk-toggleable__control:checked~label.sk-toggleable__label {background-color: #d4ebff;}#sk-container-id-2 div.sk-label input.sk-toggleable__control:checked~label.sk-toggleable__label {background-color: #d4ebff;}#sk-container-id-2 input.sk-hidden--visually {border: 0;clip: rect(1px 1px 1px 1px);clip: rect(1px, 1px, 1px, 1px);height: 1px;margin: -1px;overflow: hidden;padding: 0;position: absolute;width: 1px;}#sk-container-id-2 div.sk-estimator {font-family: monospace;background-color: #f0f8ff;border: 1px dotted black;border-radius: 0.25em;box-sizing: border-box;margin-bottom: 0.5em;}#sk-container-id-2 div.sk-estimator:hover {background-color: #d4ebff;}#sk-container-id-2 div.sk-parallel-item::after {content: \"\";width: 100%;border-bottom: 1px solid gray;flex-grow: 1;}#sk-container-id-2 div.sk-label:hover label.sk-toggleable__label {background-color: #d4ebff;}#sk-container-id-2 div.sk-serial::before {content: \"\";position: absolute;border-left: 1px solid gray;box-sizing: border-box;top: 0;bottom: 0;left: 50%;z-index: 0;}#sk-container-id-2 div.sk-serial {display: flex;flex-direction: column;align-items: center;background-color: white;padding-right: 0.2em;padding-left: 0.2em;position: relative;}#sk-container-id-2 div.sk-item {position: relative;z-index: 1;}#sk-container-id-2 div.sk-parallel {display: flex;align-items: stretch;justify-content: center;background-color: white;position: relative;}#sk-container-id-2 div.sk-item::before, #sk-container-id-2 div.sk-parallel-item::before {content: \"\";position: absolute;border-left: 1px solid gray;box-sizing: border-box;top: 0;bottom: 0;left: 50%;z-index: -1;}#sk-container-id-2 div.sk-parallel-item {display: flex;flex-direction: column;z-index: 1;position: relative;background-color: white;}#sk-container-id-2 div.sk-parallel-item:first-child::after {align-self: flex-end;width: 50%;}#sk-container-id-2 div.sk-parallel-item:last-child::after {align-self: flex-start;width: 50%;}#sk-container-id-2 div.sk-parallel-item:only-child::after {width: 0;}#sk-container-id-2 div.sk-dashed-wrapped {border: 1px dashed gray;margin: 0 0.4em 0.5em 0.4em;box-sizing: border-box;padding-bottom: 0.4em;background-color: white;}#sk-container-id-2 div.sk-label label {font-family: monospace;font-weight: bold;display: inline-block;line-height: 1.2em;}#sk-container-id-2 div.sk-label-container {text-align: center;}#sk-container-id-2 div.sk-container {/* jupyter's `normalize.less` sets `[hidden] { display: none; }` but bootstrap.min.css set `[hidden] { display: none !important; }` so we also need the `!important` here to be able to override the default hidden behavior on the sphinx rendered scikit-learn.org. See: https://github.com/scikit-learn/scikit-learn/issues/21755 */display: inline-block !important;position: relative;}#sk-container-id-2 div.sk-text-repr-fallback {display: none;}</style><div id=\"sk-container-id-2\" class=\"sk-top-container\"><div class=\"sk-text-repr-fallback\"><pre>RandomForestRegressor()</pre><b>In a Jupyter environment, please rerun this cell to show the HTML representation or trust the notebook. <br />On GitHub, the HTML representation is unable to render, please try loading this page with nbviewer.org.</b></div><div class=\"sk-container\" hidden><div class=\"sk-item\"><div class=\"sk-estimator sk-toggleable\"><input class=\"sk-toggleable__control sk-hidden--visually\" id=\"sk-estimator-id-2\" type=\"checkbox\" checked><label for=\"sk-estimator-id-2\" class=\"sk-toggleable__label sk-toggleable__label-arrow\">RandomForestRegressor</label><div class=\"sk-toggleable__content\"><pre>RandomForestRegressor()</pre></div></div></div></div></div>"
      ],
      "text/plain": [
       "RandomForestRegressor()"
      ]
     },
     "execution_count": 19,
     "metadata": {},
     "output_type": "execute_result"
    }
   ],
   "source": [
    "from sklearn.model_selection import train_test_split\n",
    "from sklearn.ensemble import RandomForestRegressor\n",
    "np.random.seed(0)\n",
    "X_train, X_test, y_train, y_test = train_test_split(transformed_X, y, test_size=0.2)\n",
    "model = RandomForestRegressor(n_estimators=100)\n",
    "model.fit(X_train, y_train)\n",
    "\n"
   ]
  },
  {
   "cell_type": "code",
   "execution_count": 21,
   "id": "f7f66ecd-6f92-452e-b484-1a16c0d6841f",
   "metadata": {},
   "outputs": [
    {
     "data": {
      "text/plain": [
       "0.8182894951367332"
      ]
     },
     "execution_count": 21,
     "metadata": {},
     "output_type": "execute_result"
    }
   ],
   "source": [
    "model.score(X_test,y_test)"
   ]
  },
  {
   "cell_type": "markdown",
   "id": "9217e087-975a-4ec5-9d03-fdf3a89345ce",
   "metadata": {},
   "source": [
    "### 2.3 saving the model "
   ]
  },
  {
   "cell_type": "code",
   "execution_count": 85,
   "id": "5eaab9c8-eece-4b8d-975e-dbefb63f7b7c",
   "metadata": {},
   "outputs": [],
   "source": [
    "#import pickle\n",
    "\n",
    "#pickle.dump(model, open(\"random_forest_81_percent.pkl\", \"wb\"))"
   ]
  },
  {
   "cell_type": "markdown",
   "id": "da99d263-2227-4164-a74a-a8b0a4bfe0d3",
   "metadata": {},
   "source": [
    "## 3 Evaluating our models \n"
   ]
  },
  {
   "cell_type": "markdown",
   "id": "39fbdbda-9ab7-47ed-accc-3331307fb827",
   "metadata": {},
   "source": [
    "### 3.1 RandomForestRegressor evaluation"
   ]
  },
  {
   "cell_type": "code",
   "execution_count": 26,
   "id": "f6c52b54-3475-4afa-a944-43f20a5a280b",
   "metadata": {},
   "outputs": [],
   "source": [
    "from sklearn.metrics import r2_score\n",
    "from sklearn.metrics import mean_absolute_error\n",
    "from sklearn.metrics import mean_squared_error"
   ]
  },
  {
   "cell_type": "code",
   "execution_count": 27,
   "id": "7fd55304-26dd-4a05-a810-8b5987a9a4e6",
   "metadata": {},
   "outputs": [
    {
     "name": "stdout",
     "output_type": "stream",
     "text": [
      "r2 score: 0.8182894951367332\n",
      "MAE: 14.225409299014014\n",
      "MSE: 1076.8408832291477\n"
     ]
    }
   ],
   "source": [
    "y_preds= model.predict(X_test)\n",
    "\n",
    "\n",
    "print(\"r2 score:\",r2_score(y_true=y_test,y_pred=y_preds) )\n",
    "print(\"MAE:\" ,mean_absolute_error(y_test,y_preds))\n",
    "print(\"MSE:\" ,mean_squared_error(y_test,y_preds))"
   ]
  },
  {
   "cell_type": "code",
   "execution_count": 28,
   "id": "25123b5f-9ce6-4731-bac9-4e27055fdc11",
   "metadata": {},
   "outputs": [],
   "source": [
    "from sklearn.model_selection import cross_val_score"
   ]
  },
  {
   "cell_type": "code",
   "execution_count": 34,
   "id": "d1e29359-9033-49a3-8873-ed6f961a20d0",
   "metadata": {},
   "outputs": [
    {
     "data": {
      "text/plain": [
       "0.6726471679348436"
      ]
     },
     "execution_count": 34,
     "metadata": {},
     "output_type": "execute_result"
    }
   ],
   "source": [
    "cv_acc = cross_val_score(model, transformed_X,y ,cv=5) \n",
    "cv_acc.mean()"
   ]
  },
  {
   "cell_type": "code",
   "execution_count": 33,
   "id": "67e63532-8c27-433e-add5-394502f0c89e",
   "metadata": {},
   "outputs": [
    {
     "data": {
      "text/plain": [
       "0.6735615576561427"
      ]
     },
     "execution_count": 33,
     "metadata": {},
     "output_type": "execute_result"
    }
   ],
   "source": []
  },
  {
   "cell_type": "code",
   "execution_count": 32,
   "id": "c1938557-fe3c-4eec-aa7f-ebbbec9e45fa",
   "metadata": {},
   "outputs": [
    {
     "ename": "ValueError",
     "evalue": "\nAll the 5 fits failed.\nIt is very likely that your model is misconfigured.\nYou can try to debug the error by setting error_score='raise'.\n\nBelow are more details about the failures:\n--------------------------------------------------------------------------------\n1 fits failed with the following error:\nTraceback (most recent call last):\n  File \"D:\\anaconda\\envs\\quant\\lib\\site-packages\\sklearn\\model_selection\\_validation.py\", line 729, in _fit_and_score\n    estimator.fit(X_train, y_train, **fit_params)\n  File \"D:\\anaconda\\envs\\quant\\lib\\site-packages\\sklearn\\base.py\", line 1152, in wrapper\n    return fit_method(estimator, *args, **kwargs)\n  File \"D:\\anaconda\\envs\\quant\\lib\\site-packages\\sklearn\\ensemble\\_forest.py\", line 348, in fit\n    X, y = self._validate_data(\n  File \"D:\\anaconda\\envs\\quant\\lib\\site-packages\\sklearn\\base.py\", line 622, in _validate_data\n    X, y = check_X_y(X, y, **check_params)\n  File \"D:\\anaconda\\envs\\quant\\lib\\site-packages\\sklearn\\utils\\validation.py\", line 1146, in check_X_y\n    X = check_array(\n  File \"D:\\anaconda\\envs\\quant\\lib\\site-packages\\sklearn\\utils\\validation.py\", line 836, in check_array\n    array = array.astype(new_dtype)\n  File \"D:\\anaconda\\envs\\quant\\lib\\site-packages\\pandas\\core\\generic.py\", line 6324, in astype\n    new_data = self._mgr.astype(dtype=dtype, copy=copy, errors=errors)\n  File \"D:\\anaconda\\envs\\quant\\lib\\site-packages\\pandas\\core\\internals\\managers.py\", line 451, in astype\n    return self.apply(\n  File \"D:\\anaconda\\envs\\quant\\lib\\site-packages\\pandas\\core\\internals\\managers.py\", line 352, in apply\n    applied = getattr(b, f)(**kwargs)\n  File \"D:\\anaconda\\envs\\quant\\lib\\site-packages\\pandas\\core\\internals\\blocks.py\", line 511, in astype\n    new_values = astype_array_safe(values, dtype, copy=copy, errors=errors)\n  File \"D:\\anaconda\\envs\\quant\\lib\\site-packages\\pandas\\core\\dtypes\\astype.py\", line 242, in astype_array_safe\n    new_values = astype_array(values, dtype, copy=copy)\n  File \"D:\\anaconda\\envs\\quant\\lib\\site-packages\\pandas\\core\\dtypes\\astype.py\", line 187, in astype_array\n    values = _astype_nansafe(values, dtype, copy=copy)\n  File \"D:\\anaconda\\envs\\quant\\lib\\site-packages\\pandas\\core\\dtypes\\astype.py\", line 138, in _astype_nansafe\n    return arr.astype(dtype, copy=True)\nValueError: could not convert string to float: 'I.'\n\n--------------------------------------------------------------------------------\n4 fits failed with the following error:\nTraceback (most recent call last):\n  File \"D:\\anaconda\\envs\\quant\\lib\\site-packages\\sklearn\\model_selection\\_validation.py\", line 729, in _fit_and_score\n    estimator.fit(X_train, y_train, **fit_params)\n  File \"D:\\anaconda\\envs\\quant\\lib\\site-packages\\sklearn\\base.py\", line 1152, in wrapper\n    return fit_method(estimator, *args, **kwargs)\n  File \"D:\\anaconda\\envs\\quant\\lib\\site-packages\\sklearn\\ensemble\\_forest.py\", line 348, in fit\n    X, y = self._validate_data(\n  File \"D:\\anaconda\\envs\\quant\\lib\\site-packages\\sklearn\\base.py\", line 622, in _validate_data\n    X, y = check_X_y(X, y, **check_params)\n  File \"D:\\anaconda\\envs\\quant\\lib\\site-packages\\sklearn\\utils\\validation.py\", line 1146, in check_X_y\n    X = check_array(\n  File \"D:\\anaconda\\envs\\quant\\lib\\site-packages\\sklearn\\utils\\validation.py\", line 836, in check_array\n    array = array.astype(new_dtype)\n  File \"D:\\anaconda\\envs\\quant\\lib\\site-packages\\pandas\\core\\generic.py\", line 6324, in astype\n    new_data = self._mgr.astype(dtype=dtype, copy=copy, errors=errors)\n  File \"D:\\anaconda\\envs\\quant\\lib\\site-packages\\pandas\\core\\internals\\managers.py\", line 451, in astype\n    return self.apply(\n  File \"D:\\anaconda\\envs\\quant\\lib\\site-packages\\pandas\\core\\internals\\managers.py\", line 352, in apply\n    applied = getattr(b, f)(**kwargs)\n  File \"D:\\anaconda\\envs\\quant\\lib\\site-packages\\pandas\\core\\internals\\blocks.py\", line 511, in astype\n    new_values = astype_array_safe(values, dtype, copy=copy, errors=errors)\n  File \"D:\\anaconda\\envs\\quant\\lib\\site-packages\\pandas\\core\\dtypes\\astype.py\", line 242, in astype_array_safe\n    new_values = astype_array(values, dtype, copy=copy)\n  File \"D:\\anaconda\\envs\\quant\\lib\\site-packages\\pandas\\core\\dtypes\\astype.py\", line 187, in astype_array\n    values = _astype_nansafe(values, dtype, copy=copy)\n  File \"D:\\anaconda\\envs\\quant\\lib\\site-packages\\pandas\\core\\dtypes\\astype.py\", line 138, in _astype_nansafe\n    return arr.astype(dtype, copy=True)\nValueError: could not convert string to float: 'III.'\n",
     "output_type": "error",
     "traceback": [
      "\u001b[1;31m---------------------------------------------------------------------------\u001b[0m",
      "\u001b[1;31mValueError\u001b[0m                                Traceback (most recent call last)",
      "Cell \u001b[1;32mIn[32], line 1\u001b[0m\n\u001b[1;32m----> 1\u001b[0m cv_acc \u001b[38;5;241m=\u001b[39m \u001b[43mcross_val_score\u001b[49m\u001b[43m(\u001b[49m\u001b[43mmodel\u001b[49m\u001b[43m,\u001b[49m\u001b[43m \u001b[49m\u001b[43mX\u001b[49m\u001b[43m,\u001b[49m\u001b[43my\u001b[49m\u001b[43m \u001b[49m\u001b[43m,\u001b[49m\u001b[43mcv\u001b[49m\u001b[38;5;241;43m=\u001b[39;49m\u001b[38;5;241;43m5\u001b[39;49m\u001b[43m)\u001b[49m\n",
      "File \u001b[1;32mD:\\anaconda\\envs\\quant\\lib\\site-packages\\sklearn\\model_selection\\_validation.py:562\u001b[0m, in \u001b[0;36mcross_val_score\u001b[1;34m(estimator, X, y, groups, scoring, cv, n_jobs, verbose, fit_params, pre_dispatch, error_score)\u001b[0m\n\u001b[0;32m    559\u001b[0m \u001b[38;5;66;03m# To ensure multimetric format is not supported\u001b[39;00m\n\u001b[0;32m    560\u001b[0m scorer \u001b[38;5;241m=\u001b[39m check_scoring(estimator, scoring\u001b[38;5;241m=\u001b[39mscoring)\n\u001b[1;32m--> 562\u001b[0m cv_results \u001b[38;5;241m=\u001b[39m \u001b[43mcross_validate\u001b[49m\u001b[43m(\u001b[49m\n\u001b[0;32m    563\u001b[0m \u001b[43m    \u001b[49m\u001b[43mestimator\u001b[49m\u001b[38;5;241;43m=\u001b[39;49m\u001b[43mestimator\u001b[49m\u001b[43m,\u001b[49m\n\u001b[0;32m    564\u001b[0m \u001b[43m    \u001b[49m\u001b[43mX\u001b[49m\u001b[38;5;241;43m=\u001b[39;49m\u001b[43mX\u001b[49m\u001b[43m,\u001b[49m\n\u001b[0;32m    565\u001b[0m \u001b[43m    \u001b[49m\u001b[43my\u001b[49m\u001b[38;5;241;43m=\u001b[39;49m\u001b[43my\u001b[49m\u001b[43m,\u001b[49m\n\u001b[0;32m    566\u001b[0m \u001b[43m    \u001b[49m\u001b[43mgroups\u001b[49m\u001b[38;5;241;43m=\u001b[39;49m\u001b[43mgroups\u001b[49m\u001b[43m,\u001b[49m\n\u001b[0;32m    567\u001b[0m \u001b[43m    \u001b[49m\u001b[43mscoring\u001b[49m\u001b[38;5;241;43m=\u001b[39;49m\u001b[43m{\u001b[49m\u001b[38;5;124;43m\"\u001b[39;49m\u001b[38;5;124;43mscore\u001b[39;49m\u001b[38;5;124;43m\"\u001b[39;49m\u001b[43m:\u001b[49m\u001b[43m \u001b[49m\u001b[43mscorer\u001b[49m\u001b[43m}\u001b[49m\u001b[43m,\u001b[49m\n\u001b[0;32m    568\u001b[0m \u001b[43m    \u001b[49m\u001b[43mcv\u001b[49m\u001b[38;5;241;43m=\u001b[39;49m\u001b[43mcv\u001b[49m\u001b[43m,\u001b[49m\n\u001b[0;32m    569\u001b[0m \u001b[43m    \u001b[49m\u001b[43mn_jobs\u001b[49m\u001b[38;5;241;43m=\u001b[39;49m\u001b[43mn_jobs\u001b[49m\u001b[43m,\u001b[49m\n\u001b[0;32m    570\u001b[0m \u001b[43m    \u001b[49m\u001b[43mverbose\u001b[49m\u001b[38;5;241;43m=\u001b[39;49m\u001b[43mverbose\u001b[49m\u001b[43m,\u001b[49m\n\u001b[0;32m    571\u001b[0m \u001b[43m    \u001b[49m\u001b[43mfit_params\u001b[49m\u001b[38;5;241;43m=\u001b[39;49m\u001b[43mfit_params\u001b[49m\u001b[43m,\u001b[49m\n\u001b[0;32m    572\u001b[0m \u001b[43m    \u001b[49m\u001b[43mpre_dispatch\u001b[49m\u001b[38;5;241;43m=\u001b[39;49m\u001b[43mpre_dispatch\u001b[49m\u001b[43m,\u001b[49m\n\u001b[0;32m    573\u001b[0m \u001b[43m    \u001b[49m\u001b[43merror_score\u001b[49m\u001b[38;5;241;43m=\u001b[39;49m\u001b[43merror_score\u001b[49m\u001b[43m,\u001b[49m\n\u001b[0;32m    574\u001b[0m \u001b[43m\u001b[49m\u001b[43m)\u001b[49m\n\u001b[0;32m    575\u001b[0m \u001b[38;5;28;01mreturn\u001b[39;00m cv_results[\u001b[38;5;124m\"\u001b[39m\u001b[38;5;124mtest_score\u001b[39m\u001b[38;5;124m\"\u001b[39m]\n",
      "File \u001b[1;32mD:\\anaconda\\envs\\quant\\lib\\site-packages\\sklearn\\utils\\_param_validation.py:214\u001b[0m, in \u001b[0;36mvalidate_params.<locals>.decorator.<locals>.wrapper\u001b[1;34m(*args, **kwargs)\u001b[0m\n\u001b[0;32m    208\u001b[0m \u001b[38;5;28;01mtry\u001b[39;00m:\n\u001b[0;32m    209\u001b[0m     \u001b[38;5;28;01mwith\u001b[39;00m config_context(\n\u001b[0;32m    210\u001b[0m         skip_parameter_validation\u001b[38;5;241m=\u001b[39m(\n\u001b[0;32m    211\u001b[0m             prefer_skip_nested_validation \u001b[38;5;129;01mor\u001b[39;00m global_skip_validation\n\u001b[0;32m    212\u001b[0m         )\n\u001b[0;32m    213\u001b[0m     ):\n\u001b[1;32m--> 214\u001b[0m         \u001b[38;5;28;01mreturn\u001b[39;00m \u001b[43mfunc\u001b[49m\u001b[43m(\u001b[49m\u001b[38;5;241;43m*\u001b[39;49m\u001b[43margs\u001b[49m\u001b[43m,\u001b[49m\u001b[43m \u001b[49m\u001b[38;5;241;43m*\u001b[39;49m\u001b[38;5;241;43m*\u001b[39;49m\u001b[43mkwargs\u001b[49m\u001b[43m)\u001b[49m\n\u001b[0;32m    215\u001b[0m \u001b[38;5;28;01mexcept\u001b[39;00m InvalidParameterError \u001b[38;5;28;01mas\u001b[39;00m e:\n\u001b[0;32m    216\u001b[0m     \u001b[38;5;66;03m# When the function is just a wrapper around an estimator, we allow\u001b[39;00m\n\u001b[0;32m    217\u001b[0m     \u001b[38;5;66;03m# the function to delegate validation to the estimator, but we replace\u001b[39;00m\n\u001b[0;32m    218\u001b[0m     \u001b[38;5;66;03m# the name of the estimator by the name of the function in the error\u001b[39;00m\n\u001b[0;32m    219\u001b[0m     \u001b[38;5;66;03m# message to avoid confusion.\u001b[39;00m\n\u001b[0;32m    220\u001b[0m     msg \u001b[38;5;241m=\u001b[39m re\u001b[38;5;241m.\u001b[39msub(\n\u001b[0;32m    221\u001b[0m         \u001b[38;5;124mr\u001b[39m\u001b[38;5;124m\"\u001b[39m\u001b[38;5;124mparameter of \u001b[39m\u001b[38;5;124m\\\u001b[39m\u001b[38;5;124mw+ must be\u001b[39m\u001b[38;5;124m\"\u001b[39m,\n\u001b[0;32m    222\u001b[0m         \u001b[38;5;124mf\u001b[39m\u001b[38;5;124m\"\u001b[39m\u001b[38;5;124mparameter of \u001b[39m\u001b[38;5;132;01m{\u001b[39;00mfunc\u001b[38;5;241m.\u001b[39m\u001b[38;5;18m__qualname__\u001b[39m\u001b[38;5;132;01m}\u001b[39;00m\u001b[38;5;124m must be\u001b[39m\u001b[38;5;124m\"\u001b[39m,\n\u001b[0;32m    223\u001b[0m         \u001b[38;5;28mstr\u001b[39m(e),\n\u001b[0;32m    224\u001b[0m     )\n",
      "File \u001b[1;32mD:\\anaconda\\envs\\quant\\lib\\site-packages\\sklearn\\model_selection\\_validation.py:328\u001b[0m, in \u001b[0;36mcross_validate\u001b[1;34m(estimator, X, y, groups, scoring, cv, n_jobs, verbose, fit_params, pre_dispatch, return_train_score, return_estimator, return_indices, error_score)\u001b[0m\n\u001b[0;32m    308\u001b[0m parallel \u001b[38;5;241m=\u001b[39m Parallel(n_jobs\u001b[38;5;241m=\u001b[39mn_jobs, verbose\u001b[38;5;241m=\u001b[39mverbose, pre_dispatch\u001b[38;5;241m=\u001b[39mpre_dispatch)\n\u001b[0;32m    309\u001b[0m results \u001b[38;5;241m=\u001b[39m parallel(\n\u001b[0;32m    310\u001b[0m     delayed(_fit_and_score)(\n\u001b[0;32m    311\u001b[0m         clone(estimator),\n\u001b[1;32m   (...)\u001b[0m\n\u001b[0;32m    325\u001b[0m     \u001b[38;5;28;01mfor\u001b[39;00m train, test \u001b[38;5;129;01min\u001b[39;00m indices\n\u001b[0;32m    326\u001b[0m )\n\u001b[1;32m--> 328\u001b[0m \u001b[43m_warn_or_raise_about_fit_failures\u001b[49m\u001b[43m(\u001b[49m\u001b[43mresults\u001b[49m\u001b[43m,\u001b[49m\u001b[43m \u001b[49m\u001b[43merror_score\u001b[49m\u001b[43m)\u001b[49m\n\u001b[0;32m    330\u001b[0m \u001b[38;5;66;03m# For callable scoring, the return type is only know after calling. If the\u001b[39;00m\n\u001b[0;32m    331\u001b[0m \u001b[38;5;66;03m# return type is a dictionary, the error scores can now be inserted with\u001b[39;00m\n\u001b[0;32m    332\u001b[0m \u001b[38;5;66;03m# the correct key.\u001b[39;00m\n\u001b[0;32m    333\u001b[0m \u001b[38;5;28;01mif\u001b[39;00m \u001b[38;5;28mcallable\u001b[39m(scoring):\n",
      "File \u001b[1;32mD:\\anaconda\\envs\\quant\\lib\\site-packages\\sklearn\\model_selection\\_validation.py:414\u001b[0m, in \u001b[0;36m_warn_or_raise_about_fit_failures\u001b[1;34m(results, error_score)\u001b[0m\n\u001b[0;32m    407\u001b[0m \u001b[38;5;28;01mif\u001b[39;00m num_failed_fits \u001b[38;5;241m==\u001b[39m num_fits:\n\u001b[0;32m    408\u001b[0m     all_fits_failed_message \u001b[38;5;241m=\u001b[39m (\n\u001b[0;32m    409\u001b[0m         \u001b[38;5;124mf\u001b[39m\u001b[38;5;124m\"\u001b[39m\u001b[38;5;130;01m\\n\u001b[39;00m\u001b[38;5;124mAll the \u001b[39m\u001b[38;5;132;01m{\u001b[39;00mnum_fits\u001b[38;5;132;01m}\u001b[39;00m\u001b[38;5;124m fits failed.\u001b[39m\u001b[38;5;130;01m\\n\u001b[39;00m\u001b[38;5;124m\"\u001b[39m\n\u001b[0;32m    410\u001b[0m         \u001b[38;5;124m\"\u001b[39m\u001b[38;5;124mIt is very likely that your model is misconfigured.\u001b[39m\u001b[38;5;130;01m\\n\u001b[39;00m\u001b[38;5;124m\"\u001b[39m\n\u001b[0;32m    411\u001b[0m         \u001b[38;5;124m\"\u001b[39m\u001b[38;5;124mYou can try to debug the error by setting error_score=\u001b[39m\u001b[38;5;124m'\u001b[39m\u001b[38;5;124mraise\u001b[39m\u001b[38;5;124m'\u001b[39m\u001b[38;5;124m.\u001b[39m\u001b[38;5;130;01m\\n\u001b[39;00m\u001b[38;5;130;01m\\n\u001b[39;00m\u001b[38;5;124m\"\u001b[39m\n\u001b[0;32m    412\u001b[0m         \u001b[38;5;124mf\u001b[39m\u001b[38;5;124m\"\u001b[39m\u001b[38;5;124mBelow are more details about the failures:\u001b[39m\u001b[38;5;130;01m\\n\u001b[39;00m\u001b[38;5;132;01m{\u001b[39;00mfit_errors_summary\u001b[38;5;132;01m}\u001b[39;00m\u001b[38;5;124m\"\u001b[39m\n\u001b[0;32m    413\u001b[0m     )\n\u001b[1;32m--> 414\u001b[0m     \u001b[38;5;28;01mraise\u001b[39;00m \u001b[38;5;167;01mValueError\u001b[39;00m(all_fits_failed_message)\n\u001b[0;32m    416\u001b[0m \u001b[38;5;28;01melse\u001b[39;00m:\n\u001b[0;32m    417\u001b[0m     some_fits_failed_message \u001b[38;5;241m=\u001b[39m (\n\u001b[0;32m    418\u001b[0m         \u001b[38;5;124mf\u001b[39m\u001b[38;5;124m\"\u001b[39m\u001b[38;5;130;01m\\n\u001b[39;00m\u001b[38;5;132;01m{\u001b[39;00mnum_failed_fits\u001b[38;5;132;01m}\u001b[39;00m\u001b[38;5;124m fits failed out of a total of \u001b[39m\u001b[38;5;132;01m{\u001b[39;00mnum_fits\u001b[38;5;132;01m}\u001b[39;00m\u001b[38;5;124m.\u001b[39m\u001b[38;5;130;01m\\n\u001b[39;00m\u001b[38;5;124m\"\u001b[39m\n\u001b[0;32m    419\u001b[0m         \u001b[38;5;124m\"\u001b[39m\u001b[38;5;124mThe score on these train-test partitions for these parameters\u001b[39m\u001b[38;5;124m\"\u001b[39m\n\u001b[1;32m   (...)\u001b[0m\n\u001b[0;32m    423\u001b[0m         \u001b[38;5;124mf\u001b[39m\u001b[38;5;124m\"\u001b[39m\u001b[38;5;124mBelow are more details about the failures:\u001b[39m\u001b[38;5;130;01m\\n\u001b[39;00m\u001b[38;5;132;01m{\u001b[39;00mfit_errors_summary\u001b[38;5;132;01m}\u001b[39;00m\u001b[38;5;124m\"\u001b[39m\n\u001b[0;32m    424\u001b[0m     )\n",
      "\u001b[1;31mValueError\u001b[0m: \nAll the 5 fits failed.\nIt is very likely that your model is misconfigured.\nYou can try to debug the error by setting error_score='raise'.\n\nBelow are more details about the failures:\n--------------------------------------------------------------------------------\n1 fits failed with the following error:\nTraceback (most recent call last):\n  File \"D:\\anaconda\\envs\\quant\\lib\\site-packages\\sklearn\\model_selection\\_validation.py\", line 729, in _fit_and_score\n    estimator.fit(X_train, y_train, **fit_params)\n  File \"D:\\anaconda\\envs\\quant\\lib\\site-packages\\sklearn\\base.py\", line 1152, in wrapper\n    return fit_method(estimator, *args, **kwargs)\n  File \"D:\\anaconda\\envs\\quant\\lib\\site-packages\\sklearn\\ensemble\\_forest.py\", line 348, in fit\n    X, y = self._validate_data(\n  File \"D:\\anaconda\\envs\\quant\\lib\\site-packages\\sklearn\\base.py\", line 622, in _validate_data\n    X, y = check_X_y(X, y, **check_params)\n  File \"D:\\anaconda\\envs\\quant\\lib\\site-packages\\sklearn\\utils\\validation.py\", line 1146, in check_X_y\n    X = check_array(\n  File \"D:\\anaconda\\envs\\quant\\lib\\site-packages\\sklearn\\utils\\validation.py\", line 836, in check_array\n    array = array.astype(new_dtype)\n  File \"D:\\anaconda\\envs\\quant\\lib\\site-packages\\pandas\\core\\generic.py\", line 6324, in astype\n    new_data = self._mgr.astype(dtype=dtype, copy=copy, errors=errors)\n  File \"D:\\anaconda\\envs\\quant\\lib\\site-packages\\pandas\\core\\internals\\managers.py\", line 451, in astype\n    return self.apply(\n  File \"D:\\anaconda\\envs\\quant\\lib\\site-packages\\pandas\\core\\internals\\managers.py\", line 352, in apply\n    applied = getattr(b, f)(**kwargs)\n  File \"D:\\anaconda\\envs\\quant\\lib\\site-packages\\pandas\\core\\internals\\blocks.py\", line 511, in astype\n    new_values = astype_array_safe(values, dtype, copy=copy, errors=errors)\n  File \"D:\\anaconda\\envs\\quant\\lib\\site-packages\\pandas\\core\\dtypes\\astype.py\", line 242, in astype_array_safe\n    new_values = astype_array(values, dtype, copy=copy)\n  File \"D:\\anaconda\\envs\\quant\\lib\\site-packages\\pandas\\core\\dtypes\\astype.py\", line 187, in astype_array\n    values = _astype_nansafe(values, dtype, copy=copy)\n  File \"D:\\anaconda\\envs\\quant\\lib\\site-packages\\pandas\\core\\dtypes\\astype.py\", line 138, in _astype_nansafe\n    return arr.astype(dtype, copy=True)\nValueError: could not convert string to float: 'I.'\n\n--------------------------------------------------------------------------------\n4 fits failed with the following error:\nTraceback (most recent call last):\n  File \"D:\\anaconda\\envs\\quant\\lib\\site-packages\\sklearn\\model_selection\\_validation.py\", line 729, in _fit_and_score\n    estimator.fit(X_train, y_train, **fit_params)\n  File \"D:\\anaconda\\envs\\quant\\lib\\site-packages\\sklearn\\base.py\", line 1152, in wrapper\n    return fit_method(estimator, *args, **kwargs)\n  File \"D:\\anaconda\\envs\\quant\\lib\\site-packages\\sklearn\\ensemble\\_forest.py\", line 348, in fit\n    X, y = self._validate_data(\n  File \"D:\\anaconda\\envs\\quant\\lib\\site-packages\\sklearn\\base.py\", line 622, in _validate_data\n    X, y = check_X_y(X, y, **check_params)\n  File \"D:\\anaconda\\envs\\quant\\lib\\site-packages\\sklearn\\utils\\validation.py\", line 1146, in check_X_y\n    X = check_array(\n  File \"D:\\anaconda\\envs\\quant\\lib\\site-packages\\sklearn\\utils\\validation.py\", line 836, in check_array\n    array = array.astype(new_dtype)\n  File \"D:\\anaconda\\envs\\quant\\lib\\site-packages\\pandas\\core\\generic.py\", line 6324, in astype\n    new_data = self._mgr.astype(dtype=dtype, copy=copy, errors=errors)\n  File \"D:\\anaconda\\envs\\quant\\lib\\site-packages\\pandas\\core\\internals\\managers.py\", line 451, in astype\n    return self.apply(\n  File \"D:\\anaconda\\envs\\quant\\lib\\site-packages\\pandas\\core\\internals\\managers.py\", line 352, in apply\n    applied = getattr(b, f)(**kwargs)\n  File \"D:\\anaconda\\envs\\quant\\lib\\site-packages\\pandas\\core\\internals\\blocks.py\", line 511, in astype\n    new_values = astype_array_safe(values, dtype, copy=copy, errors=errors)\n  File \"D:\\anaconda\\envs\\quant\\lib\\site-packages\\pandas\\core\\dtypes\\astype.py\", line 242, in astype_array_safe\n    new_values = astype_array(values, dtype, copy=copy)\n  File \"D:\\anaconda\\envs\\quant\\lib\\site-packages\\pandas\\core\\dtypes\\astype.py\", line 187, in astype_array\n    values = _astype_nansafe(values, dtype, copy=copy)\n  File \"D:\\anaconda\\envs\\quant\\lib\\site-packages\\pandas\\core\\dtypes\\astype.py\", line 138, in _astype_nansafe\n    return arr.astype(dtype, copy=True)\nValueError: could not convert string to float: 'III.'\n"
     ]
    }
   ],
   "source": []
  },
  {
   "cell_type": "code",
   "execution_count": null,
   "id": "7d89c511-2cdf-41bc-875e-bd6acfda300f",
   "metadata": {},
   "outputs": [],
   "source": []
  }
 ],
 "metadata": {
  "kernelspec": {
   "display_name": "Python 3 (ipykernel)",
   "language": "python",
   "name": "python3"
  },
  "language_info": {
   "codemirror_mode": {
    "name": "ipython",
    "version": 3
   },
   "file_extension": ".py",
   "mimetype": "text/x-python",
   "name": "python",
   "nbconvert_exporter": "python",
   "pygments_lexer": "ipython3",
   "version": "3.11.5"
  }
 },
 "nbformat": 4,
 "nbformat_minor": 5
}
